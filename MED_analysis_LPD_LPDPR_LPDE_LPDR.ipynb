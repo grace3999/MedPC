{
 "cells": [
  {
   "cell_type": "code",
   "execution_count": 1,
   "metadata": {},
   "outputs": [],
   "source": [
    "#getting and working with data\n",
    "import pandas as pd\n",
    "import numpy as np\n",
    "import scipy as sp\n",
    "import re\n",
    "import os\n",
    "from itertools import groupby\n",
    "import datetime as dt\n",
    "\n",
    "#visualizing results\n",
    "import matplotlib.pyplot as plt\n",
    "%matplotlib inline\n",
    "import seaborn as sns\n",
    "sns.set_context('poster', rc={'font.size':35,\n",
    "                              'axes.titlesize':50,\n",
    "                              'axes.labelsize':35})\n",
    "\n",
    "pd.set_option('display.max_rows', 100000)\n",
    "pd.set_option('display.max_columns', 50000)\n",
    "pd.set_option('display.width', 100000)\n",
    "\n",
    "import warnings; warnings.simplefilter('ignore')\n",
    "np.set_printoptions(suppress=True)"
   ]
  },
  {
   "cell_type": "markdown",
   "metadata": {},
   "source": [
    "### Get data"
   ]
  },
  {
   "cell_type": "code",
   "execution_count": 2,
   "metadata": {},
   "outputs": [
    {
     "name": "stdout",
     "output_type": "stream",
     "text": [
      "7\n",
      "7\n"
     ]
    },
    {
     "data": {
      "text/plain": [
       "['/Users/abbieschindler/Documents/Schindler_Lab/Data/Behavior/med_boxes/reward_learning_tc/processed_data/.DS_Store',\n",
       " '/Users/abbieschindler/Documents/Schindler_Lab/Data/Behavior/med_boxes/reward_learning_tc/processed_data/final_trial_data_g2s.csv',\n",
       " '/Users/abbieschindler/Documents/Schindler_Lab/Data/Behavior/med_boxes/reward_learning_tc/processed_data/final_trial_data_g1_ol.csv',\n",
       " '/Users/abbieschindler/Documents/Schindler_Lab/Data/Behavior/med_boxes/reward_learning_tc/processed_data/final_trial_data_g1_sl.csv',\n",
       " '/Users/abbieschindler/Documents/Schindler_Lab/Data/Behavior/med_boxes/reward_learning_tc/processed_data/final_trial_data_g12.csv',\n",
       " '/Users/abbieschindler/Documents/Schindler_Lab/Data/Behavior/med_boxes/reward_learning_tc/processed_data/final_trial_data_g1.csv',\n",
       " '/Users/abbieschindler/Documents/Schindler_Lab/Data/Behavior/med_boxes/reward_learning_tc/processed_data/final_trial_data_g2.csv']"
      ]
     },
     "execution_count": 2,
     "metadata": {},
     "output_type": "execute_result"
    }
   ],
   "source": [
    "path = '/Users/abbieschindler/Documents/Schindler_Lab/Data/Behavior/med_boxes/reward_learning_tc/processed_data'\n",
    "\n",
    "file_names = os.listdir(path)\n",
    "print(len(file_names))\n",
    "\n",
    "file_paths = []\n",
    "\n",
    "for file in file_names:\n",
    "    \n",
    "    file_path = path + '/' + file\n",
    "    file_paths.append(file_path)\n",
    "\n",
    "print(len(file_paths))\n",
    "file_paths"
   ]
  },
  {
   "cell_type": "markdown",
   "metadata": {},
   "source": [
    "### groupby trial_bin (each 10 min)"
   ]
  },
  {
   "cell_type": "code",
   "execution_count": 3,
   "metadata": {},
   "outputs": [],
   "source": [
    "data_session = pd.read_csv(file_paths[4])\n",
    "data_session = pd.DataFrame(data = data_session)\n"
   ]
  },
  {
   "cell_type": "code",
   "execution_count": 4,
   "metadata": {},
   "outputs": [
    {
     "name": "stdout",
     "output_type": "stream",
     "text": [
      "(24634, 25)\n",
      "(7129, 25)\n"
     ]
    }
   ],
   "source": [
    "data_session1 = data_session[data_session['session']==1]\n",
    "print(data_session1.shape)\n",
    "\n",
    "data_session6 = data_session[data_session['session']==6]\n",
    "print(data_session6.shape)"
   ]
  },
  {
   "cell_type": "code",
   "execution_count": null,
   "metadata": {},
   "outputs": [],
   "source": [
    "sum_params = ['reinforcement_count', 'HE_count', 'active_lever_count', 'inactive_lever_count']\n",
    "\n",
    "max_params = ['trial_num']\n",
    "\n",
    "mean_params = ['reinforcement_latency_1st', 'reinforcement_latency_IRT',\n",
    "               'HE_latency_1st', 'HE_latency_IRT', \n",
    "               'active_lever_latency_1st', 'active_lever_latency_IRT',\n",
    "               'inactive_lever_latency_1st', 'inactive_lever_latency_IRT',\n",
    "               'lever_ratio', 'trial_duration']"
   ]
  },
  {
   "cell_type": "markdown",
   "metadata": {},
   "source": [
    "#### first session no switch "
   ]
  },
  {
   "cell_type": "code",
   "execution_count": null,
   "metadata": {},
   "outputs": [],
   "source": [
    "merge_cols = ['task', 'part', 'trial_bin', 'date', 'cage', 'animal', 'group', 'active_lever']\n",
    "\n",
    "data_session1_sum = data_session1.groupby(merge_cols)[sum_params].sum().reset_index()\n",
    "data_session1_mean = data_session1.groupby(merge_cols)[mean_params].mean().reset_index()\n",
    "data_session1_max = data_session1.groupby(merge_cols)[max_params].max().reset_index()\n",
    "\n",
    "data_session1_trialbin = data_session1_sum.merge(data_session1_mean, on=merge_cols).merge(data_session1_max, on=merge_cols)\n",
    "\n",
    "print(data_session1_trialbin.shape)\n",
    "data_session1_trialbin.tail()"
   ]
  },
  {
   "cell_type": "markdown",
   "metadata": {},
   "source": [
    "#### sixth session no switch "
   ]
  },
  {
   "cell_type": "code",
   "execution_count": null,
   "metadata": {},
   "outputs": [],
   "source": [
    "merge_cols = ['task', 'part', 'trial_bin', 'date', 'cage', 'animal', 'group', 'active_lever']\n",
    "\n",
    "data_session6_sum = data_session6.groupby(merge_cols)[sum_params].sum().reset_index()\n",
    "data_session6_mean = data_session6.groupby(merge_cols)[mean_params].mean().reset_index()\n",
    "data_session6_max = data_session6.groupby(merge_cols)[max_params].max().reset_index()\n",
    "\n",
    "data_session6_trialbin = data_session6_sum.merge(data_session6_mean, on=merge_cols).merge(data_session6_max, on=merge_cols)\n",
    "\n",
    "print(data_session6_trialbin.shape)\n",
    "data_session6_trialbin.tail()"
   ]
  },
  {
   "cell_type": "markdown",
   "metadata": {},
   "source": [
    "#### first session switch g2"
   ]
  },
  {
   "cell_type": "code",
   "execution_count": null,
   "metadata": {},
   "outputs": [],
   "source": [
    "data_session1_sg2 = pd.read_csv(file_paths[1])\n",
    "data_session1_sg2 = pd.DataFrame(data = data_session1_sg2)\n",
    "print(data_session1_sg2.shape)\n",
    "data_session1_sg2 = data_session1_sg2[data_session1_sg2['session']==1]\n",
    "print(data_session1_sg2.shape)\n",
    "data_session1_sg2.head()"
   ]
  },
  {
   "cell_type": "code",
   "execution_count": null,
   "metadata": {},
   "outputs": [],
   "source": [
    "merge_cols = ['task', 'part', 'switch', 'trial_bin', 'date', 'cage', 'animal', 'group', 'active_lever']\n",
    "\n",
    "data_session1_sg2_sum = data_session1_sg2.groupby(merge_cols)[sum_params].sum().reset_index()\n",
    "data_session1_sg2_mean = data_session1_sg2.groupby(merge_cols)[mean_params].mean().reset_index()\n",
    "data_session1_sg2_max = data_session1_sg2.groupby(merge_cols)[max_params].max().reset_index()\n",
    "\n",
    "data_session1_sg2_trialbin = data_session1_sg2_sum.merge(data_session1_sg2_mean, on=merge_cols).merge(data_session1_sg2_max, on=merge_cols)\n",
    "\n",
    "print(data_session1_sg2_trialbin.shape)\n",
    "data_session1_sg2_trialbin.tail()"
   ]
  },
  {
   "cell_type": "markdown",
   "metadata": {},
   "source": [
    "### all sessions data - groupby session"
   ]
  },
  {
   "cell_type": "markdown",
   "metadata": {},
   "source": [
    "#### no switch sessions"
   ]
  },
  {
   "cell_type": "code",
   "execution_count": 12,
   "metadata": {},
   "outputs": [
    {
     "name": "stdout",
     "output_type": "stream",
     "text": [
      "(83210, 25)\n"
     ]
    }
   ],
   "source": [
    "data_session = pd.read_csv(file_paths[4])\n",
    "data_session = pd.DataFrame(data = data_session)\n",
    "print(data_session.shape)"
   ]
  },
  {
   "cell_type": "code",
   "execution_count": 13,
   "metadata": {},
   "outputs": [],
   "source": [
    "sum_params = ['reinforcement_count', 'HE_count', 'active_lever_count', 'inactive_lever_count']\n",
    "\n",
    "max_params = ['trial_num']\n",
    "\n",
    "mean_params = ['reinforcement_latency_1st', 'reinforcement_latency_IRT',\n",
    "               'HE_latency_1st', 'HE_latency_IRT', \n",
    "               'active_lever_latency_1st', 'active_lever_latency_IRT',\n",
    "               'inactive_lever_latency_1st', 'inactive_lever_latency_IRT',\n",
    "               'lever_ratio', 'trial_duration']"
   ]
  },
  {
   "cell_type": "code",
   "execution_count": null,
   "metadata": {},
   "outputs": [],
   "source": [
    "merge_cols = ['task', 'part', 'session', 'date', 'cage', 'animal', 'group', 'active_lever']\n",
    "\n",
    "data_session_sum = data_session.groupby(merge_cols)[sum_params].sum().reset_index()\n",
    "data_session_mean = data_session.groupby(merge_cols)[mean_params].mean().reset_index()\n",
    "data_session_max = data_session_LPD_30t.groupby(merge_cols)[max_params].max().reset_index()\n",
    "\n",
    "data_session_sessiongb = data_session_sum.merge(data_session_mean, on=merge_cols).merge(data_session_max, on=merge_cols)\n",
    "\n",
    "print(data_session_sessiongb.shape)\n",
    "data_session_sessiongb.tail()"
   ]
  },
  {
   "cell_type": "markdown",
   "metadata": {},
   "source": [
    "#### g2 switch data"
   ]
  },
  {
   "cell_type": "code",
   "execution_count": null,
   "metadata": {},
   "outputs": [],
   "source": [
    "data_session_sg2 = pd.read_csv(file_paths[1])\n",
    "data_session_sg2 = pd.DataFrame(data = data_session_sg2)\n",
    "print(data_session_sg2.shape)\n",
    "data_session_sg2.head()"
   ]
  },
  {
   "cell_type": "code",
   "execution_count": null,
   "metadata": {},
   "outputs": [],
   "source": [
    "merge_cols = ['task', 'part', 'switch', 'session', 'date', 'cage', 'animal', 'group', 'active_lever']\n",
    "\n",
    "data_session_sg2_sum = data_session_sg2.groupby(merge_cols)[sum_params].sum().reset_index()\n",
    "data_session_sg2_mean = data_session_sg2.groupby(merge_cols)[mean_params].mean().reset_index()\n",
    "data_session_sg2_max = data_session_sg2.groupby(merge_cols)[max_params].max().reset_index()\n",
    "\n",
    "data_session_sg2_sessiongb = data_session_sg2_sum.merge(data_session_sg2_mean, on=merge_cols).merge(data_session_sg2_max, on=merge_cols)\n",
    "\n",
    "print(data_session_sg2_sessiongb.shape)\n",
    "data_session_sg2_sessiongb.tail()"
   ]
  },
  {
   "cell_type": "markdown",
   "metadata": {},
   "source": [
    "### progressive ratio"
   ]
  },
  {
   "cell_type": "code",
   "execution_count": null,
   "metadata": {},
   "outputs": [],
   "source": [
    "data_session = pd.read_csv(file_paths[4])\n",
    "data_session = pd.DataFrame(data = data_session)\n",
    "print(data_session.shape)\n",
    "\n",
    "task_keep = ['LPDPRR1', 'LPDPRR3']\n",
    "data_BP = data_session[data_session['task'].isin(task_keep)]\n",
    "print(data_BP.shape)\n",
    "data_BP.head()"
   ]
  },
  {
   "cell_type": "code",
   "execution_count": null,
   "metadata": {},
   "outputs": [],
   "source": [
    "sum_params = ['reinforcement_count', 'HE_count', 'inactive_lever_count']\n",
    "\n",
    "mean_params = ['reinforcement_latency_1st', 'reinforcement_latency_IRT',\n",
    "               'HE_latency_1st', 'HE_latency_IRT', \n",
    "               'active_lever_latency_1st', 'active_lever_latency_IRT',\n",
    "               'inactive_lever_latency_1st', 'inactive_lever_latency_IRT',\n",
    "               'lever_ratio', 'trial_duration']\n",
    "\n",
    "max_params = ['trial_num', 'active_lever_count']"
   ]
  },
  {
   "cell_type": "code",
   "execution_count": null,
   "metadata": {},
   "outputs": [],
   "source": [
    "merge_cols = ['task', 'part', 'session', 'date', 'cage', 'animal', 'group', 'active_lever']\n",
    "\n",
    "data_BP_sum = data_BP.groupby(merge_cols)[sum_params].sum().reset_index()\n",
    "data_BP_mean = data_BP.groupby(merge_cols)[mean_params].mean().reset_index()\n",
    "data_BP_max = data_BP.groupby(merge_cols)[max_params].max().reset_index()\n",
    "\n",
    "data_BP_sessiongb = data_BP_sum.merge(data_BP_mean, on=merge_cols).merge(data_BP_max, on=merge_cols)\n",
    "\n",
    "print(data_BP_sessiongb.shape)\n",
    "data_BP_sessiongb.tail()"
   ]
  },
  {
   "cell_type": "markdown",
   "metadata": {},
   "source": [
    "### extinction and reinstatement"
   ]
  },
  {
   "cell_type": "code",
   "execution_count": null,
   "metadata": {},
   "outputs": [],
   "source": [
    "cols_keep = ['part', 'cage', 'animal', 'group', 'active_lever', 'reinforcement_count', 'HE_count', 'active_lever_count', 'inactive_lever_count', \n",
    "             'reinforcement_latency_1st', 'reinforcement_latency_IRT', 'HE_latency_1st', 'HE_latency_IRT', \n",
    "             'active_lever_latency_1st', 'active_lever_latency_IRT', 'inactive_lever_latency_1st', \n",
    "             'inactive_lever_latency_IRT', 'lever_ratio', 'trial_duration', 'trial_num']\n",
    "\n",
    "LPDE_s1 = data_session_sessiongb[(data_session_sessiongb['task'] == 'LPDE') & (data_session_sessiongb['session'] == 1)][cols_keep]\n",
    "LPDE_s6 = data_session_sessiongb[(data_session_sessiongb['task'] == 'LPDE') & (data_session_sessiongb['session'] == 6)][cols_keep]\n",
    "\n",
    "LPD_s8 = data_session_sessiongb[(data_session_sessiongb['task'] == 'LPD') & (data_session_sessiongb['session'] == 8)][cols_keep]\n",
    "\n",
    "LPDRC = data_session_sessiongb[(data_session_sessiongb['task'] == 'LPDRC')][cols_keep]\n",
    "LPDRDD = data_session_sessiongb[(data_session_sessiongb['task'] == 'LPDRDD')][cols_keep]\n",
    "LPDRE = data_session_sessiongb[(data_session_sessiongb['task'] == 'LPDRE')][cols_keep]\n",
    "\n",
    "merge_cols = ['part', 'cage', 'animal', 'group', 'active_lever']\n",
    "\n",
    "#LPDE_s6 / LPD_s8\n",
    "LPDE_s6_LPD_s8 = LPDE_s6.merge(LPD_s8, on=merge_cols, suffixes=('_LPDE_s6', '_LPD_s8'))\n",
    "\n",
    "#LPD_s6 / LPDE_s1\n",
    "LPDE_s6_LPDE_s1 = LPDE_s6.merge(LPDE_s1, on=merge_cols, suffixes=('_LPDE_s6', '_LPDE_s1'))"
   ]
  },
  {
   "cell_type": "code",
   "execution_count": null,
   "metadata": {},
   "outputs": [],
   "source": [
    "keep_cols = ['part', 'cage', 'animal', 'group', 'active_lever', \n",
    "             'active_lever_count_LPDE_s1', 'active_lever_count_LPDE_s6', \n",
    "             'HE_count_LPDE_s1', 'HE_count_LPDE_s6']\n",
    "\n",
    "#compute extinction ratios\n",
    "ER_session = LPDE_s6_LPDE_s1[keep_cols]\n",
    "ER_session['active_lever_count_LPD_s8'] = LPDE_s6_LPD_s8['active_lever_count_LPD_s8'].values\n",
    "ER_session['HE_count_LPD_s8'] = LPDE_s6_LPD_s8['HE_count_LPD_s8'].values\n",
    "\n",
    "ER_session['E6E1_active_lever_count'] = ER_session['active_lever_count_LPDE_s6'] / ER_session['active_lever_count_LPDE_s1']\n",
    "ER_session['E6E1_HE_count'] = ER_session['HE_count_LPDE_s6'] / ER_session['HE_count_LPDE_s1']\n",
    "\n",
    "ER_session['E6D8_active_lever_count'] = ER_session['active_lever_count_LPDE_s6'] / ER_session['active_lever_count_LPD_s8']\n",
    "ER_session['E6D8_HE_count'] = ER_session['HE_count_LPDE_s6'] / ER_session['HE_count_LPD_s8']\n",
    "\n",
    "#compute reinstatement\n",
    "ER_session['active_lever_count_LPDRC'] = LPDRC['active_lever_count'].values\n",
    "ER_session['active_lever_count_LPDRDD'] = LPDRDD['active_lever_count'].values\n",
    "ER_session['HE_count_LPDRC'] = LPDRC['HE_count'].values\n",
    "ER_session['HE_count_LPDRDD'] = LPDRDD['HE_count'].values\n",
    "\n",
    "ER_session['RCE6_active_lever_count'] = ER_session['active_lever_count_LPDRC'] / ER_session['active_lever_count_LPDE_s6'] \n",
    "ER_session['RCE6_HE_count'] = ER_session['HE_count_LPDRC'] / ER_session['HE_count_LPDE_s6'] \n",
    "\n",
    "ER_session['RDE6_HE_count'] = ER_session['HE_count_LPDRDD'] / ER_session['HE_count_LPDE_s6'] \n",
    "\n",
    "ER_session.head()"
   ]
  },
  {
   "cell_type": "markdown",
   "metadata": {},
   "source": [
    "### Melt data"
   ]
  },
  {
   "cell_type": "code",
   "execution_count": null,
   "metadata": {},
   "outputs": [],
   "source": [
    "data_session1_trialbin_melt = data_session1_trialbin.set_index(['task', 'part', 'animal', 'group', 'trial_bin']).unstack(-1).reset_index()\n",
    "data_session1_trialbin_melt = data_session1_trialbin_melt.sort_values(['task', 'part', 'group', 'animal'])\n",
    "\n",
    "data_session6_trialbin_melt = data_session6_trialbin.set_index(['task', 'part', 'animal', 'group', 'trial_bin']).unstack(-1).reset_index()\n",
    "data_session6_trialbin_melt = data_session6_trialbin_melt.sort_values(['task', 'part', 'group', 'animal'])\n",
    "\n",
    "data_session1_sg2_trialbin_melt = data_session1_sg2_trialbin.set_index(['task', 'part', 'switch', 'animal', 'group', 'trial_bin']).unstack(-1).reset_index()\n",
    "data_session1_sg2_trialbin_melt = data_session1_sg2_trialbin_melt.sort_values(['task', 'part', 'switch', 'group', 'animal'])\n",
    "\n",
    "data_session_sessiongb_melt = data_session_sessiongb.set_index(['task', 'part', 'animal', 'group', 'session']).unstack(-1).reset_index()\n",
    "data_session_sessiongb_melt = data_session_sessiongb_melt.sort_values(['task', 'part', 'group', 'animal'])\n",
    "\n",
    "data_session_sg2_sessiongb_melt = data_session_sg2_sessiongb.set_index(['task', 'part', 'switch', 'animal', 'group', 'session']).unstack(-1).reset_index()\n",
    "data_session_sg2_sessiongb_melt = data_session_sg2_sessiongb_melt.sort_values(['task', 'part', 'switch', 'group', 'animal'])\n",
    "\n",
    "data_BP_sessiongb_melt = data_BP_sessiongb.set_index(['part', 'animal', 'group', 'task']).unstack(-1).reset_index()\n",
    "data_BP_sessiongb_melt = data_BP_sessiongb_melt.sort_values(['part',  'group', 'animal'])\n"
   ]
  },
  {
   "cell_type": "markdown",
   "metadata": {},
   "source": [
    "### Save as csv"
   ]
  },
  {
   "cell_type": "code",
   "execution_count": null,
   "metadata": {},
   "outputs": [],
   "source": [
    "data_session1_trialbin_melt.to_csv('data_session1_trialbin_melt.csv', index=False)\n",
    "data_session6_trialbin_melt.to_csv('data_session6_trialbin_melt.csv', index=False)\n",
    "data_session1_sg2_trialbin_melt.to_csv('data_session1_sg2_trialbin_melt.csv', index=False)\n",
    "\n",
    "data_session_sessiongb_melt.to_csv('data_session_sessiongb_melt.csv', index=False)\n",
    "data_session_sg2_sessiongb_melt.to_csv('data_session_sg2_sessiongb_melt.csv', index=False)\n",
    "data_BP_sessiongb_melt.to_csv('data_BP_sessiongb_melt.csv', index=False)\n",
    "\n",
    "ER_session.to_csv('data_ER.csv', index=False)"
   ]
  }
 ],
 "metadata": {
  "kernelspec": {
   "display_name": "Python 3",
   "language": "python",
   "name": "python3"
  },
  "language_info": {
   "codemirror_mode": {
    "name": "ipython",
    "version": 3
   },
   "file_extension": ".py",
   "mimetype": "text/x-python",
   "name": "python",
   "nbconvert_exporter": "python",
   "pygments_lexer": "ipython3",
   "version": "3.6.12"
  },
  "toc": {
   "base_numbering": 1,
   "nav_menu": {},
   "number_sections": true,
   "sideBar": true,
   "skip_h1_title": true,
   "title_cell": "Table of Contents",
   "title_sidebar": "Contents",
   "toc_cell": false,
   "toc_position": {},
   "toc_section_display": true,
   "toc_window_display": true
  }
 },
 "nbformat": 4,
 "nbformat_minor": 2
}
