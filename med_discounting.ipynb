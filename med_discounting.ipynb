{
 "cells": [
  {
   "cell_type": "code",
   "execution_count": 1,
   "metadata": {},
   "outputs": [],
   "source": [
    "#getting and working with data\n",
    "import pandas as pd\n",
    "import numpy as np\n",
    "import re\n",
    "import os\n",
    "from itertools import groupby\n",
    "import datetime as dt\n",
    "\n",
    "#visualizing results\n",
    "%matplotlib inline\n",
    "import seaborn as sns\n",
    "import matplotlib.pyplot as plt\n",
    "#import yellowbrick as yb\n",
    "\n",
    "pd.set_option('display.max_rows', 500)\n",
    "pd.set_option('display.max_columns', 500)\n",
    "pd.set_option('display.width', 1000)\n",
    "\n",
    "import warnings; warnings.simplefilter('ignore')\n",
    "np.set_printoptions(suppress=True)"
   ]
  },
  {
   "attachments": {},
   "cell_type": "markdown",
   "metadata": {},
   "source": [
    "###  Event stamps ( array I )\n",
    "\n",
    "-   1   = Rt lever response in FR (if FR greater than 1 otherwise see codes 8,9,17,18,21,22)\n",
    "-   2   = Lt lever response (if FR greater than 1 otherwise see codes 8,9,17,18,21,22)\n",
    "#### 3   = Rewarded rt lever response\n",
    "#### 4   = Rewarded lt lever response\n",
    "#### 5   = Reinforcement delivery\n",
    "-   6   = Time-out, no initial head-entry in 10 sec   **** REMOVED FOR VERSION 22_BERNSTEIN ** REINSTATED VERSION 23\n",
    "-   7   = Time-out, no lever response choice in 10 sec\n",
    "-   8   = Lever choice right\n",
    "-   9   = Lever choice left\n",
    "#### 10  = Initial head entry in trial   **** IN VERSION 22_BERNSTEIN THIS IS SIMULATED AFTER 1 SECOND ** VERSION 23 REINSTATED\n",
    "#### 11  = Subsequent head entries\n",
    "-   12  = Right lever press during time-out\n",
    "-   13  = Left lever press during time-out\n",
    "-   14  = Head entry during time-out\n",
    "-   15  = Time-out over\n",
    "#### 16  = ITI over\n",
    "#### 17  = Initial forced trial lever press right\n",
    "#### 18  = Initial forced trial lever press left\n",
    "-   19  = Time-out, no right lever response forced in 10 seconds\n",
    "-   20  = Time-out, no left lever response forced in 10 seconds\n",
    "#### 21  = Forced trial right lever\n",
    "#### 22  = Forced trail left lever\n",
    "#### 23  = Choice trial\n",
    "-   24  = Head entry during ITI\n",
    "-   25  = ICS signal\n",
    "-   26  = Extinction trial\n",
    "-   27  = Time-out, no press in A(22) minutes\n",
    "-   28  = Time-out, did not complete FR in A(21) minutes\n",
    "-   100 = Session termination\n"
   ]
  },
  {
   "cell_type": "markdown",
   "metadata": {},
   "source": [
    "Use os module to create list of data folders"
   ]
  },
  {
   "cell_type": "code",
   "execution_count": 5,
   "metadata": {},
   "outputs": [
    {
     "name": "stdout",
     "output_type": "stream",
     "text": [
      "100\n"
     ]
    },
    {
     "data": {
      "text/plain": [
       "['LPtrain_1_681_190607',\n",
       " 'LPtrain_1_682_190607',\n",
       " 'LPtrain_1_683_190607',\n",
       " 'LPtrain_1_684_190607',\n",
       " 'LPtrain_1_685_190607']"
      ]
     },
     "execution_count": 5,
     "metadata": {},
     "output_type": "execute_result"
    }
   ],
   "source": [
    "path_1 = 'C:/Users/Schindler/Documents/Schindler_Lab/Data/Behavior/Med boxes/probability_discounting/LP_train'\n",
    "\n",
    "session_list_1 = os.listdir(path_1)\n",
    "print(len(session_list_1))\n",
    "session_list_1[0:5]"
   ]
  },
  {
   "cell_type": "code",
   "execution_count": 6,
   "metadata": {
    "scrolled": true
   },
   "outputs": [
    {
     "name": "stdout",
     "output_type": "stream",
     "text": [
      "100\n"
     ]
    },
    {
     "data": {
      "text/plain": [
       "['C:/Users/Schindler/Documents/Schindler_Lab/Data/Behavior/Med boxes/probability_discounting/LP_train/LPtrain_1_681_190607',\n",
       " 'C:/Users/Schindler/Documents/Schindler_Lab/Data/Behavior/Med boxes/probability_discounting/LP_train/LPtrain_1_682_190607',\n",
       " 'C:/Users/Schindler/Documents/Schindler_Lab/Data/Behavior/Med boxes/probability_discounting/LP_train/LPtrain_1_683_190607',\n",
       " 'C:/Users/Schindler/Documents/Schindler_Lab/Data/Behavior/Med boxes/probability_discounting/LP_train/LPtrain_1_684_190607',\n",
       " 'C:/Users/Schindler/Documents/Schindler_Lab/Data/Behavior/Med boxes/probability_discounting/LP_train/LPtrain_1_685_190607']"
      ]
     },
     "execution_count": 6,
     "metadata": {},
     "output_type": "execute_result"
    }
   ],
   "source": [
    "file_paths = []\n",
    "for file in session_list_1:\n",
    "    file_path = path_1 + '/' + file\n",
    "    file_paths.append(file_path)\n",
    "\n",
    "print(len(file_paths))\n",
    "file_paths[0:5]"
   ]
  },
  {
   "cell_type": "code",
   "execution_count": 25,
   "metadata": {},
   "outputs": [],
   "source": [
    "def get_file_info(file_path_name):\n",
    "    # takes in a file path, finds the date, animal_number, session and session number, saves each accordingly\n",
    "    import re\n",
    "    \n",
    "    path_split = file_path_name.split('/')\n",
    "    file_split = path_split[-1].split('_')\n",
    "    \n",
    "    for row in file_split:\n",
    "        if re.search(r'^\\d\\d\\d\\d\\d\\d$', row):\n",
    "            date = row\n",
    "        if re.search(r'^\\d\\d\\d$', row):\n",
    "            animal_number = row\n",
    "        if re.search(r'^\\D\\D', row):\n",
    "            session = row\n",
    "        if re.search(r'^\\d$', row):\n",
    "            session_num = row\n",
    "        \n",
    "    session = str(session + '_' + session_num)\n",
    "\n",
    "    return date, animal_number, session"
   ]
  },
  {
   "cell_type": "code",
   "execution_count": 8,
   "metadata": {},
   "outputs": [],
   "source": [
    "def make_array_from_path (file_path_name):\n",
    "    # takes in path, creates array (each row of array is a row from original med file)\n",
    "    import numpy as np\n",
    "    import pandas as pd\n",
    "    \n",
    "    data = pd.read_table(file_path_name)\n",
    "    data_table = pd.DataFrame(data = data)\n",
    "    data_array = data_table.values\n",
    "    \n",
    "    return data_array"
   ]
  },
  {
   "cell_type": "code",
   "execution_count": 9,
   "metadata": {},
   "outputs": [],
   "source": [
    "def get_events_and_times(array, event_letter, time_letter):\n",
    "    #takes in array and the letters Med PC program uses to signify an event_stamp and time_stamp; \n",
    "    #finds all event_stamps and corresponding time_stamps; creats pandas dataframe\n",
    "    import re\n",
    "    import numpy as np\n",
    "    import pandas as pd\n",
    "\n",
    "    i = 0\n",
    "    event_data = []\n",
    "    time_data = []\n",
    "    while i < len(array):\n",
    "        if re.search(str(event_letter + ':'), str(array[i])):\n",
    "            i = i + 1\n",
    "            while re.search('\\[\\'\\ ', str(array[i])):\n",
    "                split = array[i][0].split()[1:]\n",
    "                for element in split:\n",
    "                    event_data.append(float(element))\n",
    "                i = i + 1\n",
    "        if re.search(str(time_letter + ':'), str(array[i])):\n",
    "            i = i + 1\n",
    "            while re.search('\\[\\'\\ ', str(array[i])):\n",
    "                split = array[i][0].split()[1:]\n",
    "                for element in split:\n",
    "                    time_data.append(float(element))\n",
    "                i = i + 1\n",
    "        i = i + 1\n",
    "    \n",
    "    eandt = np.column_stack((event_data, time_data))\n",
    "    es_et = pd.DataFrame(data = eandt)\n",
    "    es_et.columns = ['event_stamp', 'time_stamp']\n",
    "    \n",
    "    return es_et"
   ]
  },
  {
   "cell_type": "code",
   "execution_count": 10,
   "metadata": {},
   "outputs": [],
   "source": [
    "def get_trial_times_two(events_and_times, start_marker, end_marker):\n",
    "    #takes in dataframe of events and corresponding time_stamps and the Med PC program code for ITI mark of trial segment\n",
    "    #e.g. conditioned stimulus onset and offset, ITI onset and offset\n",
    "    #finds time_stamps for each start and end, puts into new dataframe\n",
    "    import numpy as np\n",
    "    import pandas as pd\n",
    "\n",
    "    trial_starts = events_and_times[events_and_times['event_stamp'] == start_marker]['time_stamp'].values\n",
    "    trial_ends = events_and_times[events_and_times['event_stamp'] == end_marker]['time_stamp'].values\n",
    "    \n",
    "    times = pd.DataFrame(data = [trial_starts, trial_ends])\n",
    "    times = times.T\n",
    "    times.columns = ['trial_start', 'trial_end']\n",
    "    \n",
    "    return times"
   ]
  },
  {
   "cell_type": "code",
   "execution_count": 11,
   "metadata": {},
   "outputs": [],
   "source": [
    "def create_trials_df(events_and_times, trial_times):\n",
    "    \n",
    "    i = 0\n",
    "    trial_data = pd.DataFrame()\n",
    "    \n",
    "    while i < len(trial_times):\n",
    "        data = events_and_times[(events_and_times['time_stamp'] >= trial_times['trial_start'][i]) & (events_and_times['time_stamp'] <= trial_times['trial_end'][i])]\n",
    "        data['trial_#'] = [i+1]*len(data)\n",
    "        data['trial_start'] = trial_times['trial_start'][i]\n",
    "        data['trial_end'] = trial_times['trial_end'][i]\n",
    "        trial_data = pd.concat([trial_data, data], axis = 0, ignore_index=True)\n",
    "        i = i + 1\n",
    "    \n",
    "    return trial_data"
   ]
  },
  {
   "cell_type": "code",
   "execution_count": 12,
   "metadata": {},
   "outputs": [],
   "source": [
    "def count(trial_data, bit):\n",
    "    trials = len((trial_data['trial_#'].unique()))\n",
    "    i = 0\n",
    "    count = []\n",
    "    while i < trials:\n",
    "        data = trial_data[trial_data['trial_#'] == i]\n",
    "        count.append(len(data[data['event_stamp'] == bit]))\n",
    "        i = i + 1\n",
    "    \n",
    "    return count"
   ]
  },
  {
   "cell_type": "code",
   "execution_count": 13,
   "metadata": {},
   "outputs": [],
   "source": [
    "def latency(trial_data, bit):\n",
    "    trials = len((trial_data['trial_#'].unique()))\n",
    "    i = 0\n",
    "    latency_1st = []\n",
    "    latency_ave = []\n",
    "    while i < trials:\n",
    "        data = trial_data[trial_data['trial_#'] == i]\n",
    "        data = data[data['event_stamp'] == bit]\n",
    "        if len(data) < 1:\n",
    "            latency_1st.append(0.0)\n",
    "            latency_ave.append(0.0)\n",
    "        else:\n",
    "            latency_1st.append((data['time_stamp'] - data['trial_start']).values[0]/100)\n",
    "            latency_ave.append((data['time_stamp'] - data['trial_start']).values.mean()/100)\n",
    "        i = i + 1\n",
    "    \n",
    "    return latency_1st, latency_ave"
   ]
  },
  {
   "cell_type": "code",
   "execution_count": 14,
   "metadata": {},
   "outputs": [],
   "source": [
    "def HE_wait(trial_data):\n",
    "    trials = len((trial_data['trial_#'].unique()))\n",
    "    i = 0\n",
    "    HE_waits = []\n",
    "    while i < trials:\n",
    "        data = trial_data[trial_data['trial_#'] == i]\n",
    "        \n",
    "        count.append(len(data[data['event_stamp'] == bit]))\n",
    "        i = i + 1\n",
    "    \n",
    "    return count"
   ]
  },
  {
   "cell_type": "code",
   "execution_count": 36,
   "metadata": {},
   "outputs": [],
   "source": [
    "def create_session_df(trial_data, bit_dic):\n",
    "    \n",
    "    trials = len((trial_data['trial_#'].unique()))\n",
    "    \n",
    "    #get HE_wait times\n",
    "    times_df = pd.DataFrame(data = [trial_data.groupby('trial_#')['trial_start'].unique(), trial_data.groupby('trial_#')['trial_end'].unique()])\n",
    "    times_df = times_df.T\n",
    "    \n",
    "    i = 0\n",
    "    HE_waits = []\n",
    "    while i < times_df.shape[0]:\n",
    "        if (i == 0) | (i == times_df.shape[0] - 1):\n",
    "            HE_waits.append(np.nan)\n",
    "            i += 1\n",
    "        else:\n",
    "            HE_wait = times_df.iloc[i]['trial_start'] - times_df.iloc[i-1]['trial_end']\n",
    "            HE_waits.append(int(HE_wait/100))\n",
    "            i += 1\n",
    "    \n",
    "    session_data = pd.DataFrame(index=np.arange(0,trials))\n",
    "\n",
    "    for name, bit in bit_dic.items():\n",
    "        session_data[str(name + '_count')] = count(trial_data, bit)\n",
    "        session_data[str(name + '_latency_1st')], session_data[str(name + '_latency_ave_bit')] = latency(trial_data, bit)\n",
    "    \n",
    "    session_data['trial_num'] = np.arange(session_data.shape[0])\n",
    "    session_data['HE_wait'] = HE_waits\n",
    "    \n",
    "    return session_data"
   ]
  },
  {
   "cell_type": "code",
   "execution_count": null,
   "metadata": {},
   "outputs": [],
   "source": [
    "file_path = file_paths[-5]\n",
    "print('file_path:', '\\n', file_path, '\\n')\n",
    "\n",
    "date, animal_number, session, session_num = get_file_info(file_path)\n",
    "print('date:', date, 'animal_number:', animal_number, 'session:', session, 'session_num:', session_num, '\\n')\n",
    "\n",
    "array = make_array_from_path(file_path)\n",
    "print(array)\n",
    "\n",
    "events_and_times = get_events_and_times(array, \"I\", \"T\")\n",
    "print(events_and_times.head(), '\\n')\n",
    "\n",
    "trial_times = get_trial_times_two(events_and_times, 10, 16)\n",
    "print(trial_times.head(), '\\n')\n",
    "\n",
    "trial_data = create_trials_df(events_and_times, trial_times)\n",
    "print(trial_data.head(), '\\n')\n",
    "\n",
    "bit_dic = {'reinforcement': 5, 'left_lever': 8, 'right_lever': 9, 'HE_trial': 11, 'HE_ITI': 24}\n",
    "session_data = create_session_df(trial_data, bit_dic)"
   ]
  },
  {
   "cell_type": "code",
   "execution_count": 37,
   "metadata": {},
   "outputs": [
    {
     "name": "stdout",
     "output_type": "stream",
     "text": [
      "Wall time: 2min 58s\n"
     ]
    }
   ],
   "source": [
    "%%time\n",
    "final_data = pd.DataFrame()\n",
    "bit_dic = {'reinforcement': 5, 'left_lever': 8, 'right_lever': 9, 'HE_trial': 11, 'HE_ITI': 24}\n",
    "\n",
    "for file in file_paths:\n",
    "    date, animal_number, session = get_file_info(file)\n",
    "    array = make_array_from_path(file)\n",
    "    events_and_times = get_events_and_times(array, \"I\", \"T\")\n",
    "    trial_times = get_trial_times_two(events_and_times, 10, 16)\n",
    "    trial_data = create_trials_df(events_and_times, trial_times)\n",
    "    session_data = create_session_df(trial_data, bit_dic)\n",
    "    session_data['date'] = [date]*(session_data.shape[0])\n",
    "    session_data['animal_number'] = [animal_number]*(session_data.shape[0])\n",
    "    session_data['session'] = [session]*(session_data.shape[0])\n",
    "    #session_data['session_num'] = [session_num]*(session_data.shape[0])\n",
    "    \n",
    "    final_data = pd.concat([final_data, session_data], axis = 0, ignore_index=True)"
   ]
  },
  {
   "cell_type": "code",
   "execution_count": 31,
   "metadata": {},
   "outputs": [
    {
     "data": {
      "text/plain": [
       "LPtrain_4    454\n",
       "Shape_1      396\n",
       "LPtrain_5    362\n",
       "LPtrain_3    260\n",
       "LPtrain_1     31\n",
       "LPtrain_2     15\n",
       "Name: session, dtype: int64"
      ]
     },
     "execution_count": 31,
     "metadata": {},
     "output_type": "execute_result"
    }
   ],
   "source": [
    "final_data['session'].value_counts()"
   ]
  },
  {
   "cell_type": "code",
   "execution_count": 44,
   "metadata": {},
   "outputs": [
    {
     "data": {
      "text/plain": [
       "reinforcement_count               0.991809\n",
       "reinforcement_latency_1st         5.558843\n",
       "reinforcement_latency_ave_bit     5.754272\n",
       "left_lever_count                  0.518542\n",
       "left_lever_latency_1st            3.094470\n",
       "left_lever_latency_ave_bit        3.094470\n",
       "right_lever_count                 0.473267\n",
       "right_lever_latency_1st           2.454577\n",
       "right_lever_latency_ave_bit       2.650006\n",
       "HE_trial_count                    1.024852\n",
       "HE_trial_latency_1st              0.644506\n",
       "HE_trial_latency_ave_bit          1.237637\n",
       "HE_ITI_count                      2.572916\n",
       "HE_ITI_latency_1st                7.551320\n",
       "HE_ITI_latency_ave_bit           10.979570\n",
       "trial_num                        24.250000\n",
       "HE_wait                          26.931035\n",
       "dtype: float64"
      ]
     },
     "execution_count": 44,
     "metadata": {},
     "output_type": "execute_result"
    }
   ],
   "source": [
    "final_data[final_data['session'] == 'Shape_1'].groupby(['session', 'animal_number']).mean().mean()"
   ]
  },
  {
   "cell_type": "code",
   "execution_count": 49,
   "metadata": {},
   "outputs": [
    {
     "data": {
      "text/plain": [
       "<matplotlib.axes._subplots.AxesSubplot at 0x1e4c5cec3c8>"
      ]
     },
     "execution_count": 49,
     "metadata": {},
     "output_type": "execute_result"
    },
    {
     "data": {
      "image/png": "[encoded data removed]",
      "text/plain": [
       "<Figure size 432x288 with 1 Axes>"
      ]
     },
     "metadata": {
      "needs_background": "light"
     },
     "output_type": "display_data"
    }
   ],
   "source": [
    "final_data[final_data['session'] == 'Shape_1'].groupby('trial_num')['HE_wait'].mean().plot()"
   ]
  },
  {
   "cell_type": "code",
   "execution_count": 51,
   "metadata": {},
   "outputs": [
    {
     "data": {
      "text/plain": [
       "<matplotlib.axes._subplots.AxesSubplot at 0x1e4c5cdceb8>"
      ]
     },
     "execution_count": 51,
     "metadata": {},
     "output_type": "execute_result"
    },
    {
     "data": {
      "image/png": "[encoded data removed]",
      "text/plain": [
       "<Figure size 432x288 with 1 Axes>"
      ]
     },
     "metadata": {
      "needs_background": "light"
     },
     "output_type": "display_data"
    }
   ],
   "source": [
    "final_data[final_data['session'] == 'Shape_1'].groupby('trial_num')['right_lever_latency_1st'].mean().plot()"
   ]
  }
 ],
 "metadata": {
  "kernelspec": {
   "display_name": "Python 3",
   "language": "python",
   "name": "python3"
  },
  "language_info": {
   "codemirror_mode": {
    "name": "ipython",
    "version": 3
   },
   "file_extension": ".py",
   "mimetype": "text/x-python",
   "name": "python",
   "nbconvert_exporter": "python",
   "pygments_lexer": "ipython3",
   "version": "3.6.7"
  }
 },
 "nbformat": 4,
 "nbformat_minor": 2
}
