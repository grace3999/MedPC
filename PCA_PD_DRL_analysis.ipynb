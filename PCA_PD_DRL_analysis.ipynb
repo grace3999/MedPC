{
 "cells": [
  {
   "cell_type": "code",
   "execution_count": 1,
   "metadata": {},
   "outputs": [],
   "source": [
    "#getting and working with data\n",
    "import pandas as pd\n",
    "import numpy as np\n",
    "import re\n",
    "import os\n",
    "from itertools import groupby\n",
    "import datetime as dt\n",
    "\n",
    "#visualizing results\n",
    "%matplotlib inline\n",
    "import seaborn as sns\n",
    "import matplotlib.pyplot as plt\n",
    "#import yellowbrick as yb\n",
    "\n",
    "pd.set_option('display.max_rows', 500)\n",
    "pd.set_option('display.max_columns', 500)\n",
    "pd.set_option('display.width', 1000)\n",
    "\n",
    "import warnings; warnings.simplefilter('ignore')\n",
    "np.set_printoptions(suppress=True)"
   ]
  },
  {
   "cell_type": "code",
   "execution_count": 2,
   "metadata": {},
   "outputs": [
    {
     "name": "stdout",
     "output_type": "stream",
     "text": [
      "11\n",
      "11\n"
     ]
    },
    {
     "data": {
      "text/plain": [
       "['/Users/abbieschindler/Documents/Schindler_Lab/Data/Behavior/med_boxes/PCA_PD_DRL/round12/processed/PCA_trial.csv',\n",
       " '/Users/abbieschindler/Documents/Schindler_Lab/Data/Behavior/med_boxes/PCA_PD_DRL/round12/processed/.DS_Store',\n",
       " '/Users/abbieschindler/Documents/Schindler_Lab/Data/Behavior/med_boxes/PCA_PD_DRL/round12/processed/PCA_melt.csv',\n",
       " '/Users/abbieschindler/Documents/Schindler_Lab/Data/Behavior/med_boxes/PCA_PD_DRL/round12/processed/DRL_session.csv',\n",
       " '/Users/abbieschindler/Documents/Schindler_Lab/Data/Behavior/med_boxes/PCA_PD_DRL/round12/processed/PD_trial.csv',\n",
       " '/Users/abbieschindler/Documents/Schindler_Lab/Data/Behavior/med_boxes/PCA_PD_DRL/round12/processed/PD_session.csv',\n",
       " '/Users/abbieschindler/Documents/Schindler_Lab/Data/Behavior/med_boxes/PCA_PD_DRL/round12/processed/DRL_trial.csv',\n",
       " '/Users/abbieschindler/Documents/Schindler_Lab/Data/Behavior/med_boxes/PCA_PD_DRL/round12/processed/PCA_session.csv',\n",
       " '/Users/abbieschindler/Documents/Schindler_Lab/Data/Behavior/med_boxes/PCA_PD_DRL/round12/processed/DRL_melt.csv',\n",
       " '/Users/abbieschindler/Documents/Schindler_Lab/Data/Behavior/med_boxes/PCA_PD_DRL/round12/processed/PD_melt.csv',\n",
       " '/Users/abbieschindler/Documents/Schindler_Lab/Data/Behavior/med_boxes/PCA_PD_DRL/round12/processed/DRL_mean_melt.csv']"
      ]
     },
     "execution_count": 2,
     "metadata": {},
     "output_type": "execute_result"
    }
   ],
   "source": [
    "path = '/Users/abbieschindler/Documents/Schindler_Lab/Data/Behavior/med_boxes/PCA_PD_DRL/round12/processed'\n",
    "\n",
    "file_names = os.listdir(path)\n",
    "print(len(file_names))\n",
    "\n",
    "file_paths = []\n",
    "\n",
    "for file in file_names:\n",
    "    \n",
    "    file_path = path + '/' + file\n",
    "    file_paths.append(file_path)\n",
    "\n",
    "print(len(file_paths))\n",
    "file_paths"
   ]
  },
  {
   "cell_type": "code",
   "execution_count": 3,
   "metadata": {
    "scrolled": true
   },
   "outputs": [],
   "source": [
    "PCA_melt = pd.read_csv(file_paths[2])\n",
    "PCA_melt = pd.DataFrame(data = PCA_melt)\n",
    "PCA_melt_wi = PCA_melt[PCA_melt['part'] == 'within']\n",
    "PCA_melt_wi = PCA_melt_wi.iloc[1:][['group', 'animal', 'PCA_score_2.6']]"
   ]
  },
  {
   "cell_type": "code",
   "execution_count": 9,
   "metadata": {
    "scrolled": true
   },
   "outputs": [],
   "source": [
    "PD_melt = pd.read_csv(file_paths[9])\n",
    "PD_melt = pd.DataFrame(data = PD_melt)\n",
    "PD_melt_wi = PD_melt[PD_melt['part'] == 'within']\n",
    "PD_melt_wi = PD_melt_wi[PD_melt_wi['sub_session'] == 2]\n",
    "PD_melt_wi = PD_melt_wi.iloc[1:][['group', 'animal', 'high_reward_perc.1', 'high_reward_perc.4', 'high_reward_perc.3', 'high_reward_perc.2', 'high_reward_perc']]"
   ]
  },
  {
   "cell_type": "code",
   "execution_count": 10,
   "metadata": {
    "scrolled": true
   },
   "outputs": [],
   "source": [
    "DRL_mean_melt = pd.read_csv(file_paths[10])\n",
    "DRL_mean_melt = pd.DataFrame(data = DRL_mean_melt)\n",
    "DRL_mean_melt = DRL_mean_melt.iloc[1:][['group', 'animal', 'DRL_error.2', 'DRL_error', 'DRL_error.1']]"
   ]
  },
  {
   "cell_type": "code",
   "execution_count": 13,
   "metadata": {
    "scrolled": true
   },
   "outputs": [],
   "source": [
    "final_melt_wi = PCA_melt_wi.merge(PD_melt_wi, on=['group', 'animal',]).merge(DRL_mean_melt, on=['group', 'animal',])"
   ]
  },
  {
   "cell_type": "code",
   "execution_count": 14,
   "metadata": {
    "scrolled": true
   },
   "outputs": [
    {
     "data": {
      "text/html": [
       "<div>\n",
       "<style scoped>\n",
       "    .dataframe tbody tr th:only-of-type {\n",
       "        vertical-align: middle;\n",
       "    }\n",
       "\n",
       "    .dataframe tbody tr th {\n",
       "        vertical-align: top;\n",
       "    }\n",
       "\n",
       "    .dataframe thead th {\n",
       "        text-align: right;\n",
       "    }\n",
       "</style>\n",
       "<table border=\"1\" class=\"dataframe\">\n",
       "  <thead>\n",
       "    <tr style=\"text-align: right;\">\n",
       "      <th></th>\n",
       "      <th>group</th>\n",
       "      <th>animal</th>\n",
       "      <th>PCA2</th>\n",
       "      <th>PD100</th>\n",
       "      <th>PD75</th>\n",
       "      <th>PD50</th>\n",
       "      <th>PD25</th>\n",
       "      <th>PD0</th>\n",
       "      <th>DRL5</th>\n",
       "      <th>DRL15</th>\n",
       "      <th>DRL30</th>\n",
       "    </tr>\n",
       "  </thead>\n",
       "  <tbody>\n",
       "    <tr>\n",
       "      <th>0</th>\n",
       "      <td>4.0</td>\n",
       "      <td>1118.0</td>\n",
       "      <td>-0.515000</td>\n",
       "      <td>64.285714</td>\n",
       "      <td>58.333333</td>\n",
       "      <td>62.500000</td>\n",
       "      <td>54.166667</td>\n",
       "      <td>20.833333</td>\n",
       "      <td>0.305106</td>\n",
       "      <td>0.342426</td>\n",
       "      <td>0.794039</td>\n",
       "    </tr>\n",
       "    <tr>\n",
       "      <th>1</th>\n",
       "      <td>4.0</td>\n",
       "      <td>1119.0</td>\n",
       "      <td>-0.520000</td>\n",
       "      <td>61.538462</td>\n",
       "      <td>68.181818</td>\n",
       "      <td>25.000000</td>\n",
       "      <td>47.619048</td>\n",
       "      <td>22.727273</td>\n",
       "      <td>0.148884</td>\n",
       "      <td>0.385220</td>\n",
       "      <td>0.535030</td>\n",
       "    </tr>\n",
       "    <tr>\n",
       "      <th>2</th>\n",
       "      <td>4.0</td>\n",
       "      <td>1120.0</td>\n",
       "      <td>0.000000</td>\n",
       "      <td>63.157895</td>\n",
       "      <td>45.454545</td>\n",
       "      <td>45.000000</td>\n",
       "      <td>33.333333</td>\n",
       "      <td>0.000000</td>\n",
       "      <td>0.180425</td>\n",
       "      <td>0.122327</td>\n",
       "      <td>0.562685</td>\n",
       "    </tr>\n",
       "    <tr>\n",
       "      <th>3</th>\n",
       "      <td>4.0</td>\n",
       "      <td>1121.0</td>\n",
       "      <td>-0.536667</td>\n",
       "      <td>83.333333</td>\n",
       "      <td>58.823529</td>\n",
       "      <td>50.000000</td>\n",
       "      <td>4.166667</td>\n",
       "      <td>4.166667</td>\n",
       "      <td>0.160974</td>\n",
       "      <td>0.164583</td>\n",
       "      <td>0.617734</td>\n",
       "    </tr>\n",
       "    <tr>\n",
       "      <th>4</th>\n",
       "      <td>4.0</td>\n",
       "      <td>1123.0</td>\n",
       "      <td>-0.680000</td>\n",
       "      <td>66.666667</td>\n",
       "      <td>87.500000</td>\n",
       "      <td>100.000000</td>\n",
       "      <td>62.500000</td>\n",
       "      <td>54.166667</td>\n",
       "      <td>0.122700</td>\n",
       "      <td>0.507811</td>\n",
       "      <td>0.878031</td>\n",
       "    </tr>\n",
       "    <tr>\n",
       "      <th>5</th>\n",
       "      <td>4.0</td>\n",
       "      <td>1124.0</td>\n",
       "      <td>-0.468889</td>\n",
       "      <td>78.260870</td>\n",
       "      <td>80.000000</td>\n",
       "      <td>47.368421</td>\n",
       "      <td>76.470588</td>\n",
       "      <td>41.666667</td>\n",
       "      <td>0.262440</td>\n",
       "      <td>0.323923</td>\n",
       "      <td>0.735609</td>\n",
       "    </tr>\n",
       "    <tr>\n",
       "      <th>6</th>\n",
       "      <td>4.0</td>\n",
       "      <td>1215.0</td>\n",
       "      <td>-0.940000</td>\n",
       "      <td>94.736842</td>\n",
       "      <td>90.909091</td>\n",
       "      <td>66.666667</td>\n",
       "      <td>37.500000</td>\n",
       "      <td>29.166667</td>\n",
       "      <td>0.159263</td>\n",
       "      <td>NaN</td>\n",
       "      <td>NaN</td>\n",
       "    </tr>\n",
       "    <tr>\n",
       "      <th>7</th>\n",
       "      <td>4.0</td>\n",
       "      <td>1216.0</td>\n",
       "      <td>-0.600000</td>\n",
       "      <td>95.454545</td>\n",
       "      <td>100.000000</td>\n",
       "      <td>75.000000</td>\n",
       "      <td>69.565217</td>\n",
       "      <td>50.000000</td>\n",
       "      <td>0.334551</td>\n",
       "      <td>NaN</td>\n",
       "      <td>NaN</td>\n",
       "    </tr>\n",
       "    <tr>\n",
       "      <th>8</th>\n",
       "      <td>4.0</td>\n",
       "      <td>1217.0</td>\n",
       "      <td>-0.840000</td>\n",
       "      <td>22.222222</td>\n",
       "      <td>70.588235</td>\n",
       "      <td>54.166667</td>\n",
       "      <td>50.000000</td>\n",
       "      <td>4.166667</td>\n",
       "      <td>0.176787</td>\n",
       "      <td>NaN</td>\n",
       "      <td>NaN</td>\n",
       "    </tr>\n",
       "    <tr>\n",
       "      <th>9</th>\n",
       "      <td>4.0</td>\n",
       "      <td>1221.0</td>\n",
       "      <td>-0.760000</td>\n",
       "      <td>45.454545</td>\n",
       "      <td>45.000000</td>\n",
       "      <td>59.090909</td>\n",
       "      <td>25.000000</td>\n",
       "      <td>0.000000</td>\n",
       "      <td>0.291174</td>\n",
       "      <td>NaN</td>\n",
       "      <td>NaN</td>\n",
       "    </tr>\n",
       "    <tr>\n",
       "      <th>10</th>\n",
       "      <td>4.0</td>\n",
       "      <td>1222.0</td>\n",
       "      <td>-0.600000</td>\n",
       "      <td>45.000000</td>\n",
       "      <td>62.500000</td>\n",
       "      <td>73.913043</td>\n",
       "      <td>75.000000</td>\n",
       "      <td>16.666667</td>\n",
       "      <td>0.067260</td>\n",
       "      <td>NaN</td>\n",
       "      <td>NaN</td>\n",
       "    </tr>\n",
       "    <tr>\n",
       "      <th>11</th>\n",
       "      <td>4.0</td>\n",
       "      <td>1223.0</td>\n",
       "      <td>-0.823871</td>\n",
       "      <td>100.000000</td>\n",
       "      <td>100.000000</td>\n",
       "      <td>100.000000</td>\n",
       "      <td>100.000000</td>\n",
       "      <td>95.000000</td>\n",
       "      <td>0.052595</td>\n",
       "      <td>NaN</td>\n",
       "      <td>NaN</td>\n",
       "    </tr>\n",
       "    <tr>\n",
       "      <th>12</th>\n",
       "      <td>5.0</td>\n",
       "      <td>1128.0</td>\n",
       "      <td>-0.413333</td>\n",
       "      <td>100.000000</td>\n",
       "      <td>100.000000</td>\n",
       "      <td>79.166667</td>\n",
       "      <td>87.500000</td>\n",
       "      <td>37.500000</td>\n",
       "      <td>0.068839</td>\n",
       "      <td>0.430580</td>\n",
       "      <td>0.733082</td>\n",
       "    </tr>\n",
       "    <tr>\n",
       "      <th>13</th>\n",
       "      <td>5.0</td>\n",
       "      <td>1129.0</td>\n",
       "      <td>0.357778</td>\n",
       "      <td>95.652174</td>\n",
       "      <td>79.166667</td>\n",
       "      <td>100.000000</td>\n",
       "      <td>95.833333</td>\n",
       "      <td>58.333333</td>\n",
       "      <td>0.268649</td>\n",
       "      <td>0.536753</td>\n",
       "      <td>0.775190</td>\n",
       "    </tr>\n",
       "    <tr>\n",
       "      <th>14</th>\n",
       "      <td>5.0</td>\n",
       "      <td>1130.0</td>\n",
       "      <td>0.520000</td>\n",
       "      <td>85.714286</td>\n",
       "      <td>91.666667</td>\n",
       "      <td>66.666667</td>\n",
       "      <td>91.666667</td>\n",
       "      <td>8.333333</td>\n",
       "      <td>0.095391</td>\n",
       "      <td>0.432848</td>\n",
       "      <td>0.655311</td>\n",
       "    </tr>\n",
       "    <tr>\n",
       "      <th>15</th>\n",
       "      <td>5.0</td>\n",
       "      <td>1135.0</td>\n",
       "      <td>0.000000</td>\n",
       "      <td>86.956522</td>\n",
       "      <td>100.000000</td>\n",
       "      <td>100.000000</td>\n",
       "      <td>83.333333</td>\n",
       "      <td>95.833333</td>\n",
       "      <td>0.102728</td>\n",
       "      <td>0.724582</td>\n",
       "      <td>0.726724</td>\n",
       "    </tr>\n",
       "    <tr>\n",
       "      <th>16</th>\n",
       "      <td>5.0</td>\n",
       "      <td>1136.0</td>\n",
       "      <td>0.267273</td>\n",
       "      <td>78.260870</td>\n",
       "      <td>79.166667</td>\n",
       "      <td>87.500000</td>\n",
       "      <td>41.666667</td>\n",
       "      <td>0.000000</td>\n",
       "      <td>0.217290</td>\n",
       "      <td>0.795890</td>\n",
       "      <td>0.734742</td>\n",
       "    </tr>\n",
       "    <tr>\n",
       "      <th>17</th>\n",
       "      <td>5.0</td>\n",
       "      <td>1138.0</td>\n",
       "      <td>-0.640000</td>\n",
       "      <td>77.272727</td>\n",
       "      <td>47.368421</td>\n",
       "      <td>56.521739</td>\n",
       "      <td>29.166667</td>\n",
       "      <td>4.166667</td>\n",
       "      <td>0.119505</td>\n",
       "      <td>0.493732</td>\n",
       "      <td>0.749837</td>\n",
       "    </tr>\n",
       "    <tr>\n",
       "      <th>18</th>\n",
       "      <td>5.0</td>\n",
       "      <td>1144.0</td>\n",
       "      <td>-0.560000</td>\n",
       "      <td>55.000000</td>\n",
       "      <td>33.333333</td>\n",
       "      <td>60.869565</td>\n",
       "      <td>62.500000</td>\n",
       "      <td>20.833333</td>\n",
       "      <td>0.237468</td>\n",
       "      <td>0.458498</td>\n",
       "      <td>0.702935</td>\n",
       "    </tr>\n",
       "    <tr>\n",
       "      <th>19</th>\n",
       "      <td>5.0</td>\n",
       "      <td>1236.0</td>\n",
       "      <td>-0.800000</td>\n",
       "      <td>20.833333</td>\n",
       "      <td>54.166667</td>\n",
       "      <td>0.000000</td>\n",
       "      <td>0.000000</td>\n",
       "      <td>4.166667</td>\n",
       "      <td>0.163504</td>\n",
       "      <td>NaN</td>\n",
       "      <td>NaN</td>\n",
       "    </tr>\n",
       "    <tr>\n",
       "      <th>20</th>\n",
       "      <td>5.0</td>\n",
       "      <td>1237.0</td>\n",
       "      <td>-0.660000</td>\n",
       "      <td>100.000000</td>\n",
       "      <td>100.000000</td>\n",
       "      <td>83.333333</td>\n",
       "      <td>100.000000</td>\n",
       "      <td>91.666667</td>\n",
       "      <td>0.151284</td>\n",
       "      <td>NaN</td>\n",
       "      <td>NaN</td>\n",
       "    </tr>\n",
       "    <tr>\n",
       "      <th>21</th>\n",
       "      <td>5.0</td>\n",
       "      <td>1238.0</td>\n",
       "      <td>-0.780000</td>\n",
       "      <td>91.666667</td>\n",
       "      <td>100.000000</td>\n",
       "      <td>87.500000</td>\n",
       "      <td>95.833333</td>\n",
       "      <td>41.666667</td>\n",
       "      <td>0.214286</td>\n",
       "      <td>NaN</td>\n",
       "      <td>NaN</td>\n",
       "    </tr>\n",
       "    <tr>\n",
       "      <th>22</th>\n",
       "      <td>5.0</td>\n",
       "      <td>1239.0</td>\n",
       "      <td>-0.940000</td>\n",
       "      <td>33.333333</td>\n",
       "      <td>56.521739</td>\n",
       "      <td>12.500000</td>\n",
       "      <td>16.666667</td>\n",
       "      <td>8.333333</td>\n",
       "      <td>0.265469</td>\n",
       "      <td>NaN</td>\n",
       "      <td>NaN</td>\n",
       "    </tr>\n",
       "    <tr>\n",
       "      <th>23</th>\n",
       "      <td>5.0</td>\n",
       "      <td>1240.0</td>\n",
       "      <td>-0.540000</td>\n",
       "      <td>27.777778</td>\n",
       "      <td>47.619048</td>\n",
       "      <td>65.217391</td>\n",
       "      <td>66.666667</td>\n",
       "      <td>0.000000</td>\n",
       "      <td>0.202603</td>\n",
       "      <td>NaN</td>\n",
       "      <td>NaN</td>\n",
       "    </tr>\n",
       "    <tr>\n",
       "      <th>24</th>\n",
       "      <td>5.0</td>\n",
       "      <td>1241.0</td>\n",
       "      <td>-0.880000</td>\n",
       "      <td>55.000000</td>\n",
       "      <td>81.818182</td>\n",
       "      <td>79.166667</td>\n",
       "      <td>25.000000</td>\n",
       "      <td>41.666667</td>\n",
       "      <td>0.215878</td>\n",
       "      <td>NaN</td>\n",
       "      <td>NaN</td>\n",
       "    </tr>\n",
       "  </tbody>\n",
       "</table>\n",
       "</div>"
      ],
      "text/plain": [
       "    group  animal      PCA2       PD100        PD75        PD50        PD25        PD0      DRL5     DRL15     DRL30\n",
       "0     4.0  1118.0 -0.515000   64.285714   58.333333   62.500000   54.166667  20.833333  0.305106  0.342426  0.794039\n",
       "1     4.0  1119.0 -0.520000   61.538462   68.181818   25.000000   47.619048  22.727273  0.148884  0.385220  0.535030\n",
       "2     4.0  1120.0  0.000000   63.157895   45.454545   45.000000   33.333333   0.000000  0.180425  0.122327  0.562685\n",
       "3     4.0  1121.0 -0.536667   83.333333   58.823529   50.000000    4.166667   4.166667  0.160974  0.164583  0.617734\n",
       "4     4.0  1123.0 -0.680000   66.666667   87.500000  100.000000   62.500000  54.166667  0.122700  0.507811  0.878031\n",
       "5     4.0  1124.0 -0.468889   78.260870   80.000000   47.368421   76.470588  41.666667  0.262440  0.323923  0.735609\n",
       "6     4.0  1215.0 -0.940000   94.736842   90.909091   66.666667   37.500000  29.166667  0.159263       NaN       NaN\n",
       "7     4.0  1216.0 -0.600000   95.454545  100.000000   75.000000   69.565217  50.000000  0.334551       NaN       NaN\n",
       "8     4.0  1217.0 -0.840000   22.222222   70.588235   54.166667   50.000000   4.166667  0.176787       NaN       NaN\n",
       "9     4.0  1221.0 -0.760000   45.454545   45.000000   59.090909   25.000000   0.000000  0.291174       NaN       NaN\n",
       "10    4.0  1222.0 -0.600000   45.000000   62.500000   73.913043   75.000000  16.666667  0.067260       NaN       NaN\n",
       "11    4.0  1223.0 -0.823871  100.000000  100.000000  100.000000  100.000000  95.000000  0.052595       NaN       NaN\n",
       "12    5.0  1128.0 -0.413333  100.000000  100.000000   79.166667   87.500000  37.500000  0.068839  0.430580  0.733082\n",
       "13    5.0  1129.0  0.357778   95.652174   79.166667  100.000000   95.833333  58.333333  0.268649  0.536753  0.775190\n",
       "14    5.0  1130.0  0.520000   85.714286   91.666667   66.666667   91.666667   8.333333  0.095391  0.432848  0.655311\n",
       "15    5.0  1135.0  0.000000   86.956522  100.000000  100.000000   83.333333  95.833333  0.102728  0.724582  0.726724\n",
       "16    5.0  1136.0  0.267273   78.260870   79.166667   87.500000   41.666667   0.000000  0.217290  0.795890  0.734742\n",
       "17    5.0  1138.0 -0.640000   77.272727   47.368421   56.521739   29.166667   4.166667  0.119505  0.493732  0.749837\n",
       "18    5.0  1144.0 -0.560000   55.000000   33.333333   60.869565   62.500000  20.833333  0.237468  0.458498  0.702935\n",
       "19    5.0  1236.0 -0.800000   20.833333   54.166667    0.000000    0.000000   4.166667  0.163504       NaN       NaN\n",
       "20    5.0  1237.0 -0.660000  100.000000  100.000000   83.333333  100.000000  91.666667  0.151284       NaN       NaN\n",
       "21    5.0  1238.0 -0.780000   91.666667  100.000000   87.500000   95.833333  41.666667  0.214286       NaN       NaN\n",
       "22    5.0  1239.0 -0.940000   33.333333   56.521739   12.500000   16.666667   8.333333  0.265469       NaN       NaN\n",
       "23    5.0  1240.0 -0.540000   27.777778   47.619048   65.217391   66.666667   0.000000  0.202603       NaN       NaN\n",
       "24    5.0  1241.0 -0.880000   55.000000   81.818182   79.166667   25.000000  41.666667  0.215878       NaN       NaN"
      ]
     },
     "execution_count": 14,
     "metadata": {},
     "output_type": "execute_result"
    }
   ],
   "source": [
    "final_melt_wi.columns = ['group', 'animal', 'PCA2', 'PD100', 'PD75', 'PD50', 'PD25', 'PD0', 'DRL5', 'DRL15', 'DRL30']\n",
    "final_melt_wi['DRL5'] = final_melt_wi['DRL5'].astype('float')\n",
    "final_melt_wi['DRL15'] = final_melt_wi['DRL15'].astype('float')\n",
    "final_melt_wi['DRL30'] = final_melt_wi['DRL30'].astype('float')\n",
    "final_melt_wi"
   ]
  },
  {
   "cell_type": "code",
   "execution_count": 17,
   "metadata": {},
   "outputs": [
    {
     "data": {
      "text/plain": [
       "5.0    10\n",
       "4.0     9\n",
       "Name: group, dtype: int64"
      ]
     },
     "execution_count": 17,
     "metadata": {},
     "output_type": "execute_result"
    }
   ],
   "source": [
    "exclude_no_100 = [1116, 1217, 1221, 1222, 1236, 1239, 1240]\n",
    "final_melt_wi_exclude = final_melt_wi[~final_melt_wi['animal'].isin(exclude_no_100)]\n",
    "final_melt_wi_exclude['group'].value_counts()"
   ]
  },
  {
   "cell_type": "code",
   "execution_count": 22,
   "metadata": {},
   "outputs": [
    {
     "data": {
      "text/plain": [
       "<AxesSubplot:>"
      ]
     },
     "execution_count": 22,
     "metadata": {},
     "output_type": "execute_result"
    },
    {
     "data": {
      "image/png": "[encoded data removed]",
      "text/plain": [
       "<Figure size 432x288 with 2 Axes>"
      ]
     },
     "metadata": {
      "needs_background": "light"
     },
     "output_type": "display_data"
    }
   ],
   "source": [
    "sns.heatmap(final_melt_wi_exclude[['PCA2', 'DRL5', 'DRL15', 'DRL30', 'PD100', 'PD75', 'PD50', 'PD25', 'PD0',]].corr())"
   ]
  },
  {
   "cell_type": "code",
   "execution_count": 26,
   "metadata": {},
   "outputs": [
    {
     "data": {
      "image/png": "[encoded data removed]",
      "text/plain": [
       "<Figure size 720x720 with 5 Axes>"
      ]
     },
     "metadata": {
      "needs_background": "light"
     },
     "output_type": "display_data"
    }
   ],
   "source": [
    "lut = dict(zip(final_melt_wi_exclude['group'].unique(), \"rbg\"))\n",
    "row_colors = final_melt_wi_exclude['group'].map(lut)\n",
    "g = sns.clustermap(final_melt_wi_exclude[['PCA2', 'DRL5', 'PD100', 'PD75', 'PD50', 'PD25', 'PD0',]].dropna(), row_colors=row_colors,\n",
    "                  z_score=1,\n",
    "               annot=True, vmin=-1, vmax=1, center=0, cmap = 'coolwarm', \n",
    "               square=True, linewidths=.5, cbar_kws={\"shrink\": .5})\n",
    "plt.show()\n"
   ]
  },
  {
   "cell_type": "code",
   "execution_count": null,
   "metadata": {},
   "outputs": [],
   "source": [
    "sns.clustermap(data_4h_blood.set_index(['Group', 'Ship', 'Sample', 'Animal', 'TP']).dropna(axis=1),\n",
    "               metric=\"euclidean\",  method=\"ward\", z_score=1,\n",
    "               annot=True, vmin=-1, vmax=1, center=0, cmap = 'coolwarm', \n",
    "               square=True, linewidths=.5, cbar_kws={\"shrink\": .5})"
   ]
  },
  {
   "cell_type": "code",
   "execution_count": null,
   "metadata": {},
   "outputs": [],
   "source": [
    "pd_exclude = [1217,1221,1222,1236,1239,1240]\n",
    "data_int_exclude = data_int[~data_int['animal'].isin(pd_exclude)]\n",
    "sns.catplot(x='probability', y='high_reward_perc', data=data_int_exclude, kind='bar', hue='group', col='sub_session', ci=68)\n",
    "plt.show()"
   ]
  },
  {
   "cell_type": "code",
   "execution_count": null,
   "metadata": {
    "scrolled": true
   },
   "outputs": [],
   "source": [
    "data_int = PD_melt[PD_melt['part'] == 'within']\n",
    "for animal in PD_melt[PD_melt['part'] == 'within']['animal'].unique():\n",
    "    print(animal)\n",
    "    sns.catplot(x='probability', y='high_reward_perc', data=data_int[data_int['animal'] == animal], kind='bar', col='sub_session')\n",
    "    plt.show()"
   ]
  },
  {
   "cell_type": "code",
   "execution_count": null,
   "metadata": {},
   "outputs": [],
   "source": []
  },
  {
   "cell_type": "code",
   "execution_count": null,
   "metadata": {},
   "outputs": [],
   "source": []
  },
  {
   "cell_type": "code",
   "execution_count": null,
   "metadata": {},
   "outputs": [],
   "source": []
  },
  {
   "cell_type": "code",
   "execution_count": null,
   "metadata": {},
   "outputs": [],
   "source": []
  },
  {
   "cell_type": "code",
   "execution_count": null,
   "metadata": {},
   "outputs": [],
   "source": []
  },
  {
   "cell_type": "code",
   "execution_count": null,
   "metadata": {},
   "outputs": [],
   "source": []
  },
  {
   "cell_type": "code",
   "execution_count": null,
   "metadata": {},
   "outputs": [],
   "source": [
    "df_final = (task.merge(animal_info,\n",
    "                on=['animal'], how='left'))\n",
    "df_final.head()"
   ]
  },
  {
   "cell_type": "code",
   "execution_count": null,
   "metadata": {
    "scrolled": true
   },
   "outputs": [],
   "source": [
    "sns.lineplot(x='trial_num', y='HE_wait', data=task, hue='probability', err_style=\"bars\", ci=68)\n",
    "plt.show()\n",
    "sns.lineplot(x='trial_num', y='right_lever_latency', data=task, hue='probability', err_style=\"bars\", ci=68)\n",
    "plt.show()\n",
    "sns.lineplot(x='trial_num', y='left_lever_latency', data=task, hue='probability', err_style=\"bars\", ci=68)"
   ]
  },
  {
   "cell_type": "code",
   "execution_count": null,
   "metadata": {
    "scrolled": true
   },
   "outputs": [],
   "source": [
    "#make new df with high reward vs low reward columns by session\n",
    "\n",
    "pd_df_session = pd.DataFrame()\n",
    "\n",
    "animals = df_final['animal'].unique()\n",
    "\n",
    "for animal in animals:\n",
    "    \n",
    "    #get animal data\n",
    "    animal_data = df_final[df_final['animal'] == animal]\n",
    "    \n",
    "    #generate session df\n",
    "    sessions = animal_data['probability'].unique()\n",
    "    \n",
    "    for session in sessions:\n",
    "        #get session data for animal\n",
    "        animal_data_session = animal_data[animal_data['probability'] == session]\n",
    "        \n",
    "        #generate session df\n",
    "        sub_sessions = animal_data_session['sub_session'].unique()\n",
    "    \n",
    "        for sub in sub_sessions:\n",
    "            #get sub_session data for animal\n",
    "            animal_data_sub_session = animal_data_session[animal_data_session['sub_session'] == sub]\n",
    "            \n",
    "            pd_df_session_int = pd.DataFrame()\n",
    "    \n",
    "            #fill meta data\n",
    "            pd_df_session_int['date'] = animal_data_sub_session['date'].unique()\n",
    "            pd_df_session_int['animal'] = animal_data_sub_session['animal'].unique()\n",
    "            pd_df_session_int['group'] = animal_data_sub_session['group'].unique()\n",
    "            pd_df_session_int['probability'] = session\n",
    "            pd_df_session_int['sub_session'] = sub\n",
    "        \n",
    "            #compute and fill session data\n",
    "            if animal_data_sub_session['high_reward_lever'].unique() == 1:\n",
    "                pd_df_session_int['high_reward_lever'] = 'right'\n",
    "                pd_df_session_int['reinforcement_count'] = animal_data_sub_session['reinforcement_count'].sum()\n",
    "                pd_df_session_int['high_reward_lever_count'] = animal_data_sub_session['right_lever_count'].sum()\n",
    "                pd_df_session_int['high_reward_lever_latency_ave'] = animal_data_sub_session[animal_data_sub_session['right_lever_count'] == 1]['right_lever_latency'].mean()\n",
    "                pd_df_session_int['low_reward_lever_count'] = animal_data_sub_session['left_lever_count'].sum()\n",
    "                pd_df_session_int['low_reward_lever_latency_ave'] = animal_data_sub_session[animal_data_sub_session['left_lever_count'] == 1]['left_lever_latency'].mean()\n",
    "        \n",
    "            elif animal_data_sub_session['high_reward_lever'].unique() == 2:\n",
    "                pd_df_session_int['high_reward_lever'] = 'left'\n",
    "                pd_df_session_int['reinforcement_count'] = animal_data_sub_session['reinforcement_count'].sum()\n",
    "                pd_df_session_int['high_reward_lever_count'] = animal_data_sub_session['left_lever_count'].sum()\n",
    "                pd_df_session_int['high_reward_lever_latency_ave'] = animal_data_sub_session[animal_data_sub_session['left_lever_count'] == 1]['left_lever_latency'].mean()\n",
    "                pd_df_session_int['low_reward_lever_count'] = animal_data_sub_session['right_lever_count'].sum()\n",
    "                pd_df_session_int['low_reward_lever_latency_ave'] = animal_data_sub_session[animal_data_sub_session['right_lever_count'] == 1]['right_lever_latency'].mean()\n",
    "            \n",
    "            pd_df_session_int['high_reward_prob'] = pd_df_session_int['high_reward_lever_count'] / \\\n",
    "                (pd_df_session_int['high_reward_lever_count'] + pd_df_session_int['low_reward_lever_count']) * 100\n",
    "            \n",
    "            pd_df_session = pd_df_session.append(pd_df_session_int)\n",
    "        \n",
    "pd_df_session.reset_index(inplace=True, drop=True)    \n",
    "pd_df_session.head()"
   ]
  },
  {
   "cell_type": "code",
   "execution_count": null,
   "metadata": {},
   "outputs": [],
   "source": [
    "plt.figure(figsize=(16, 6))\n",
    "g = sns.barplot(x='probability', y='high_reward_lever_latency_ave', data=pd_df_session[pd_df_session['sub_session'] == 2], ci=68, hue='group')"
   ]
  },
  {
   "cell_type": "code",
   "execution_count": null,
   "metadata": {},
   "outputs": [],
   "source": [
    "pd_df_session.to_csv('pd_df_session.csv')"
   ]
  },
  {
   "cell_type": "code",
   "execution_count": null,
   "metadata": {},
   "outputs": [],
   "source": [
    "choice_df = pd_df_session[pd_df_session['sub_session'] == 2]\n",
    "choice_df = choice_df.drop(['date', 'sub_session'], axis=1)\n",
    "choice_df.set_index(['animal', 'group', 'probability'], inplace=True)\n",
    "choice_df.head()"
   ]
  },
  {
   "cell_type": "code",
   "execution_count": null,
   "metadata": {},
   "outputs": [],
   "source": [
    "choice_df = choice_df.unstack(-1)\n",
    "choice_df.head()"
   ]
  },
  {
   "cell_type": "code",
   "execution_count": null,
   "metadata": {},
   "outputs": [],
   "source": [
    "choice_df.to_csv('choice_df.csv')"
   ]
  },
  {
   "cell_type": "code",
   "execution_count": null,
   "metadata": {},
   "outputs": [],
   "source": []
  }
 ],
 "metadata": {
  "kernelspec": {
   "display_name": "Python 3",
   "language": "python",
   "name": "python3"
  },
  "language_info": {
   "codemirror_mode": {
    "name": "ipython",
    "version": 3
   },
   "file_extension": ".py",
   "mimetype": "text/x-python",
   "name": "python",
   "nbconvert_exporter": "python",
   "pygments_lexer": "ipython3",
   "version": "3.6.12"
  },
  "toc": {
   "base_numbering": 1,
   "nav_menu": {},
   "number_sections": true,
   "sideBar": true,
   "skip_h1_title": false,
   "title_cell": "Table of Contents",
   "title_sidebar": "Contents",
   "toc_cell": false,
   "toc_position": {},
   "toc_section_display": true,
   "toc_window_display": false
  }
 },
 "nbformat": 4,
 "nbformat_minor": 2
}
