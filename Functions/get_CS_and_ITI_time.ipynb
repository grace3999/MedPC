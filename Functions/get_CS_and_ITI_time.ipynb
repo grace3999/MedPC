{
 "cells": [
  {
   "cell_type": "code",
   "execution_count": 3,
   "metadata": {
    "collapsed": true
   },
   "outputs": [],
   "source": [
    "def get_CS_and_ITI_time(data, CS_s = 22, CS_e = 23, ITI_s = 15, ITI_e = 16):\n",
    "    time = {}\n",
    "    ITI_start = []\n",
    "    ITI_end = []\n",
    "    for row in data:\n",
    "        if row[0] == ITI_s:\n",
    "            ITI_start.append(row[1])\n",
    "        if row[0] == ITI_e:\n",
    "            ITI_end.append(row[1]) \n",
    "\n",
    "    CS_start = []\n",
    "    CS_end = []\n",
    "    for row in data:\n",
    "        if row[0] == CS_s:\n",
    "            CS_start.append(row[1])\n",
    "        if row[0] == CS_e:\n",
    "            CS_end.append(row[1])\n",
    "\n",
    "    names = ['ITI_start', 'ITI_end', 'CS_start', 'CS_end']\n",
    "    data = [ITI_start, ITI_end, CS_start, CS_end]\n",
    "    i = 0\n",
    "    for name in names:\n",
    "        time[name] = data[i]\n",
    "        i = i + 1\n",
    "    \n",
    "    return time"
   ]
  }
 ],
 "metadata": {
  "kernelspec": {
   "display_name": "Python 3",
   "language": "python",
   "name": "python3"
  },
  "language_info": {
   "codemirror_mode": {
    "name": "ipython",
    "version": 3
   },
   "file_extension": ".py",
   "mimetype": "text/x-python",
   "name": "python",
   "nbconvert_exporter": "python",
   "pygments_lexer": "ipython3",
   "version": "3.6.3"
  }
 },
 "nbformat": 4,
 "nbformat_minor": 2
}
