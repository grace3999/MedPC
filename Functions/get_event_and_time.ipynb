{
 "cells": [
  {
   "cell_type": "code",
   "execution_count": 3,
   "metadata": {
    "collapsed": true
   },
   "outputs": [],
   "source": [
    "def get_event_and_time(array):\n",
    "    event_letter = \"E\"\n",
    "    time_letter = \"T\"\n",
    "    re_l = r\"..[A-Z]...$\"\n",
    "    re_n = r'.. '\n",
    "\n",
    "    i = 0\n",
    "    j = 0\n",
    "    k = 0\n",
    "    event_data = []\n",
    "    time_data = []\n",
    "    for row in data_array:\n",
    "        if re.search(re_l, str(row)):\n",
    "            marker = str(row) \n",
    "            j = i\n",
    "            k = i\n",
    "            if re.match(marker, event_letter):\n",
    "                j = j + 1\n",
    "                while re.search(re_n, str(data_array[j])):\n",
    "                    event_data.append((str(data_array[j])))\n",
    "                    j = j + 1\n",
    "            if re.match(marker, time_letter):\n",
    "                k = k + 1\n",
    "                while re.search(re_n, str(data_array[k])):\n",
    "                    time_data.append((str(data_array[k])))\n",
    "                    k = k + 1\n",
    "            else:\n",
    "                i = i + 1\n",
    "        else:\n",
    "            i = i + 1\n",
    "            \n",
    "    re_n = r'^\\d(\\d|\\.)(\\d|\\.)(\\d|\\.)'\n",
    "    event_data_list = []\n",
    "    for row in event_data:\n",
    "        data_set_split = row.split(\" \")\n",
    "        for line in data_set_split:\n",
    "            if re.search(re_n, line):\n",
    "                event_data_list.append(float(line[0:(len(line)-2)]))\n",
    "                \n",
    "    re_n = r'^\\d(\\d|\\.)(\\d|\\.)(\\d|\\.)'\n",
    "    time_data_list = []\n",
    "    for row in time_data:\n",
    "        data_set_split = re.split(\" |'\", row)\n",
    "        for line in data_set_split:\n",
    "            if re.search(re_n, line):\n",
    "                time_data_list.append(float(line[0:(len(line)-1)]))\n",
    "\n",
    "    final_data = np.column_stack((event_data_list, time_data_list))\n",
    "    \n",
    "    return final_data"
   ]
  }
 ],
 "metadata": {
  "kernelspec": {
   "display_name": "Python 3",
   "language": "python",
   "name": "python3"
  },
  "language_info": {
   "codemirror_mode": {
    "name": "ipython",
    "version": 3
   },
   "file_extension": ".py",
   "mimetype": "text/x-python",
   "name": "python",
   "nbconvert_exporter": "python",
   "pygments_lexer": "ipython3",
   "version": "3.6.3"
  }
 },
 "nbformat": 4,
 "nbformat_minor": 2
}
