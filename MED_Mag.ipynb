{
 "cells": [
  {
   "cell_type": "code",
   "execution_count": 1,
   "metadata": {},
   "outputs": [],
   "source": [
    "#getting and working with data\n",
    "import pandas as pd\n",
    "import numpy as np\n",
    "import scipy as sp\n",
    "import re\n",
    "import os\n",
    "from itertools import groupby\n",
    "import datetime as dt\n",
    "\n",
    "#visualizing results\n",
    "import matplotlib.pyplot as plt\n",
    "%matplotlib inline\n",
    "import seaborn as sns\n",
    "sns.set_context('poster', rc={'font.size':35,\n",
    "                              'axes.titlesize':50,\n",
    "                              'axes.labelsize':35})\n",
    "\n",
    "pd.set_option('display.max_rows', 100000)\n",
    "pd.set_option('display.max_columns', 50000)\n",
    "pd.set_option('display.width', 100000)\n",
    "\n",
    "import warnings; warnings.simplefilter('ignore')\n",
    "np.set_printoptions(suppress=True)"
   ]
  },
  {
   "cell_type": "markdown",
   "metadata": {},
   "source": [
    "### Variable Definitions\n",
    "\n",
    "#### E   = event identity stamp\n",
    "#### T   = event time stamp"
   ]
  },
  {
   "cell_type": "markdown",
   "metadata": {},
   "source": [
    "### Event Stamps ( array E )\n",
    "\n",
    "##### 5   = Pellet reinforcement delivery\n",
    "##### 6   = Food tray head entry\n",
    "##### 100 = Session termination\n",
    "\n",
    "- 1   = Rt lever press/NP\n",
    "- 2   = Lt lever press/NP\n",
    "- 7   = Right cue light on\n",
    "- 8   = Left cue light on\n",
    "- 9   = Right cue light off\n",
    "- 10  = Left cue ight off\n",
    "- 11  = Magazine tray light on\n",
    "- 12  = Magazine tray light off\n",
    "- 13  = Liquid delivery turns on\n",
    "- 14  = Liquid delivery turns off\n",
    "- 15  = ITI starts\n",
    "- 16  = ITI ends\n",
    "- 17  = ITI Rt press/NP\n",
    "- 18  = ITI Lt press/NP"
   ]
  },
  {
   "cell_type": "code",
   "execution_count": 2,
   "metadata": {},
   "outputs": [],
   "source": [
    "def get_file_info(file_path_name):\n",
    "    # takes in a file path, finds the date, animal_number, session, session number, and sub_session (if subsession=True),\n",
    "    #saves each accordingly\n",
    "    \n",
    "    path_split = file_path_name.split('/')\n",
    "    file_split = path_split[-1].split('_')\n",
    "\n",
    "    for row in file_split:\n",
    "\n",
    "        if re.search(r'^\\d\\d\\d\\d\\d\\d$', row):\n",
    "            date = row\n",
    "        if re.search(r'^\\d\\d\\d$', row):\n",
    "            animal_number = row\n",
    "        if re.search(r'^\\d$', row):\n",
    "            session_num = row \n",
    "        \n",
    "    try:\n",
    "        #session = str(file_split[0] + '_' + session_num)\n",
    "        session = file_split[0]\n",
    "    except: \n",
    "        session = file_split[0]\n",
    "\n",
    "    return date, animal_number, session, session_num"
   ]
  },
  {
   "cell_type": "code",
   "execution_count": 3,
   "metadata": {},
   "outputs": [],
   "source": [
    "def make_array_from_path(file_path_name):\n",
    "    # takes in file path, creates array (each row of array is a row from original med file)\n",
    "    import numpy as np\n",
    "    import pandas as pd\n",
    "    \n",
    "    data = pd.read_table(file_path_name)\n",
    "    data_table = pd.DataFrame(data = data)\n",
    "    data_array = data_table.values\n",
    "    \n",
    "    return data_array"
   ]
  },
  {
   "cell_type": "code",
   "execution_count": 4,
   "metadata": {},
   "outputs": [],
   "source": [
    "def get_events_and_times(array, letter_1, letter_2, order):\n",
    "    #takes in array and the letters Med PC program uses to signify an event_stamp and time_stamp; \n",
    "    #finds all event_stamps and corresponding time_stamps; creats pandas dataframe\n",
    "    #order is whether the event or time stamp is letter_1 or letter_2\n",
    "    \n",
    "    import re\n",
    "    import numpy as np\n",
    "    import pandas as pd\n",
    "\n",
    "    i = 0\n",
    "    letter_1_array = []\n",
    "    letter_2_array = []\n",
    "\n",
    "    while i < len(array):\n",
    "        if re.search(str(letter_1 + ':'), str(array[i])):\n",
    "            i = i + 1\n",
    "            while re.search('\\[\\'\\ ', str(array[i])):\n",
    "                split = array[i][0].split()[1:]\n",
    "                for element in split:\n",
    "                    letter_1_array.append(float(element))\n",
    "                i = i + 1\n",
    "        if re.search(str(letter_2 + ':'), str(array[i])):\n",
    "            i = i + 1\n",
    "            while re.search('\\[\\'\\ ', str(array[i])):\n",
    "                split = array[i][0].split()[1:]\n",
    "                for element in split:\n",
    "                    letter_2_array.append(float(element))\n",
    "                i = i + 1\n",
    "        i = i + 1\n",
    "    \n",
    "    if order == 'event':\n",
    "        eandt = np.column_stack((letter_1_array, letter_2_array))\n",
    "        es_et = pd.DataFrame(data = eandt)\n",
    "        es_et.columns = ['event_stamp', 'time_stamp']\n",
    "        \n",
    "    if order == 'time':\n",
    "        eandt = np.column_stack((letter_2_array, letter_1_array))\n",
    "        es_et = pd.DataFrame(data = eandt)\n",
    "        es_et.columns = ['event_stamp', 'time_stamp']\n",
    "    \n",
    "    return es_et"
   ]
  },
  {
   "cell_type": "code",
   "execution_count": 5,
   "metadata": {},
   "outputs": [],
   "source": [
    "def get_trial_times_MT(events_and_times, pellet_delivery, session_end):\n",
    "    #takes in dataframe of events and corresponding time_stamps and the Med PC program code for pellet deliveries and end of trial segment\n",
    "    #finds time_stamps for each start and end, puts into new dataframe\n",
    "\n",
    "    session_start = np.array(events_and_times.iloc[[0]]['time_stamp'].values)\n",
    "    session_end = list(events_and_times[events_and_times['event_stamp'] == session_end]['time_stamp'].values)\n",
    "    pellet_delivery_times = list(events_and_times[events_and_times['event_stamp'] == pellet_delivery]['time_stamp'].values)\n",
    "    \n",
    "    start_times = pellet_delivery_times\n",
    "    end_times = np.append(pellet_delivery_times[1:], session_end)\n",
    "\n",
    "    times = pd.DataFrame(data = [start_times, end_times])\n",
    "    times = times.T\n",
    "    times.columns = ['trial_start', 'trial_end']\n",
    "    \n",
    "    return times\n",
    "\n",
    "    #if session_start[0] == pellet_delivery_times[0]:\n",
    "        #start_times = pellet_delivery_times\n",
    "        #end_times = np.append(pellet_delivery_times[1:], session_end)"
   ]
  },
  {
   "cell_type": "code",
   "execution_count": 6,
   "metadata": {},
   "outputs": [],
   "source": [
    "def create_trial_df(events_and_times, trial_times):\n",
    "    #takes in df of events and times and df of trial times\n",
    "    #creates tidy df containing events and times according to trials\n",
    "    i = 0\n",
    "    trial_data = pd.DataFrame()\n",
    "    \n",
    "    while i < len(trial_times):\n",
    "        data = events_and_times[(events_and_times['time_stamp'] >= trial_times['trial_start'][i]) & (events_and_times['time_stamp'] <= trial_times['trial_end'][i] - .01)]\n",
    "        data['trial_#'] = [i]*len(data)\n",
    "        data['trial_start'] = trial_times['trial_start'][i]\n",
    "        data['trial_end'] = trial_times['trial_end'][i]\n",
    "        trial_data = pd.concat([trial_data, data], axis = 0, ignore_index=True)\n",
    "        i = i + 1\n",
    "    \n",
    "    return trial_data"
   ]
  },
  {
   "cell_type": "code",
   "execution_count": 7,
   "metadata": {},
   "outputs": [],
   "source": [
    "def count(trial_data, event_num):\n",
    "    #get count of event_num\n",
    "    trials = len((trial_data['trial_#'].unique()))\n",
    "    i = 0\n",
    "    count = []\n",
    "    while i < trials:\n",
    "        data = trial_data[trial_data['trial_#'] == i]\n",
    "        count.append(len(data[data['event_stamp'] == event_num]))\n",
    "        i = i + 1\n",
    "    \n",
    "    return count"
   ]
  },
  {
   "cell_type": "code",
   "execution_count": 8,
   "metadata": {},
   "outputs": [],
   "source": [
    "def latency(trial_data, event_num):\n",
    "    #get latency of time between trial_start and event_num\n",
    "    trials = len((trial_data['trial_#'].unique()))\n",
    "    i = 0\n",
    "    latency_1st = []\n",
    "    latency_ave = []\n",
    "    while i < trials:\n",
    "        data = trial_data[trial_data['trial_#'] == i]\n",
    "        data = data[data['event_stamp'] == event_num]\n",
    "        if len(data) < 1:\n",
    "            latency_1st.append(np.nan)\n",
    "            latency_ave.append(np.nan)\n",
    "        else:\n",
    "            latency_1st.append((data['time_stamp'] - data['trial_start']).values[0]/100)\n",
    "            latency_ave.append((data['time_stamp'] - data['trial_start']).values.mean()/100)\n",
    "        i = i + 1\n",
    "    \n",
    "    return latency_1st, latency_ave"
   ]
  },
  {
   "cell_type": "code",
   "execution_count": 9,
   "metadata": {},
   "outputs": [],
   "source": [
    "def create_session_df(trial_data, event_dic):\n",
    "    \n",
    "    trials = len((trial_data['trial_#'].unique()))\n",
    "    \n",
    "    #get times\n",
    "    times_df = pd.DataFrame(data = [trial_data.groupby('trial_#')['trial_start'].unique(), trial_data.groupby('trial_#')['trial_end'].unique()])\n",
    "    times_df = times_df.T  \n",
    "        \n",
    "    i = 0\n",
    "    trial_times = []\n",
    "\n",
    "    while i < times_df.shape[0]:\n",
    "        trial_time = (times_df.iloc[i]['trial_end'] - times_df.iloc[i]['trial_start'])/100\n",
    "        trial_times.append(trial_time[0])\n",
    "        i += 1\n",
    "    \n",
    "    session_data = pd.DataFrame(index=np.arange(0,trials))\n",
    "\n",
    "    for name, event in event_dic.items():\n",
    "        session_data[str(name + '_count')] = count(trial_data, event)\n",
    "        session_data[str(name + '_latency_1st')], session_data[str(name + '_latency_ave')] = latency(trial_data, event)\n",
    "    \n",
    "    session_data['trial_num'] = np.arange(session_data.shape[0])\n",
    "    session_data['trial_duration'] = trial_times\n",
    "    \n",
    "    return session_data"
   ]
  },
  {
   "cell_type": "markdown",
   "metadata": {},
   "source": [
    "### Single directory run"
   ]
  },
  {
   "cell_type": "code",
   "execution_count": 10,
   "metadata": {},
   "outputs": [
    {
     "name": "stdout",
     "output_type": "stream",
     "text": [
      "17\n",
      "17\n"
     ]
    },
    {
     "data": {
      "text/plain": [
       "'C:/Users/Schindler/Documents/Schindler_Lab/Data/Behavior/med_boxes/reward_learning_tc/round1/switch_lever/reinst_drug/mag/RDPMT_1_825_200323'"
      ]
     },
     "execution_count": 10,
     "metadata": {},
     "output_type": "execute_result"
    }
   ],
   "source": [
    "path = 'C:/Users/Schindler/Documents/Schindler_Lab/Data/Behavior/med_boxes/reward_learning_tc/round1/switch_lever/reinst_drug/mag'\n",
    "\n",
    "file_names = os.listdir(path)\n",
    "print(len(file_names))\n",
    "\n",
    "file_paths = []\n",
    "\n",
    "for file in file_names:\n",
    "    \n",
    "    file_path = path + '/' + file\n",
    "    file_paths.append(file_path)\n",
    "\n",
    "print(len(file_paths))\n",
    "file_paths[0]"
   ]
  },
  {
   "cell_type": "markdown",
   "metadata": {},
   "source": [
    "### Multiple directory run"
   ]
  },
  {
   "cell_type": "code",
   "execution_count": null,
   "metadata": {},
   "outputs": [],
   "source": [
    "path_dir_orig = 'C:/Users/Schindler/Documents/Schindler_Lab/Data/Behavior/med_boxes/reward_learning_tc/round1/orig_lever'\n",
    "\n",
    "dir_list_orig = os.listdir(path_dir_orig)\n",
    "print(len(dir_list_orig))\n",
    "dir_list_orig"
   ]
  },
  {
   "cell_type": "code",
   "execution_count": null,
   "metadata": {
    "scrolled": true
   },
   "outputs": [],
   "source": [
    "file_paths_orig = []\n",
    "\n",
    "for name in dir_list_orig:\n",
    "    print(name)\n",
    "    \n",
    "    new_path = path_dir_orig + '/' + name\n",
    "    new_dir_list = os.listdir(new_path)\n",
    "    print(new_path)\n",
    "    print(len(new_dir_list), '\\n')\n",
    "    \n",
    "    for file in new_dir_list:\n",
    "        file_path = new_path + '/' + file\n",
    "        file_paths_orig.append(file_path)\n",
    "\n",
    "print(len(file_paths_orig))\n",
    "file_paths_orig[0]"
   ]
  },
  {
   "cell_type": "markdown",
   "metadata": {},
   "source": [
    "### Read in animal data"
   ]
  },
  {
   "cell_type": "code",
   "execution_count": 13,
   "metadata": {
    "scrolled": true
   },
   "outputs": [
    {
     "data": {
      "text/html": [
       "<div>\n",
       "<style scoped>\n",
       "    .dataframe tbody tr th:only-of-type {\n",
       "        vertical-align: middle;\n",
       "    }\n",
       "\n",
       "    .dataframe tbody tr th {\n",
       "        vertical-align: top;\n",
       "    }\n",
       "\n",
       "    .dataframe thead th {\n",
       "        text-align: right;\n",
       "    }\n",
       "</style>\n",
       "<table border=\"1\" class=\"dataframe\">\n",
       "  <thead>\n",
       "    <tr style=\"text-align: right;\">\n",
       "      <th></th>\n",
       "      <th>cage</th>\n",
       "      <th>animal</th>\n",
       "      <th>group</th>\n",
       "      <th>lever</th>\n",
       "    </tr>\n",
       "  </thead>\n",
       "  <tbody>\n",
       "    <tr>\n",
       "      <th>0</th>\n",
       "      <td>158</td>\n",
       "      <td>825</td>\n",
       "      <td>1</td>\n",
       "      <td>0</td>\n",
       "    </tr>\n",
       "    <tr>\n",
       "      <th>1</th>\n",
       "      <td>158</td>\n",
       "      <td>826</td>\n",
       "      <td>1</td>\n",
       "      <td>0</td>\n",
       "    </tr>\n",
       "    <tr>\n",
       "      <th>2</th>\n",
       "      <td>158</td>\n",
       "      <td>827</td>\n",
       "      <td>1</td>\n",
       "      <td>0</td>\n",
       "    </tr>\n",
       "    <tr>\n",
       "      <th>3</th>\n",
       "      <td>159</td>\n",
       "      <td>828</td>\n",
       "      <td>1</td>\n",
       "      <td>1</td>\n",
       "    </tr>\n",
       "    <tr>\n",
       "      <th>4</th>\n",
       "      <td>159</td>\n",
       "      <td>829</td>\n",
       "      <td>1</td>\n",
       "      <td>1</td>\n",
       "    </tr>\n",
       "  </tbody>\n",
       "</table>\n",
       "</div>"
      ],
      "text/plain": [
       "   cage  animal  group  lever\n",
       "0   158     825      1      0\n",
       "1   158     826      1      0\n",
       "2   158     827      1      0\n",
       "3   159     828      1      1\n",
       "4   159     829      1      1"
      ]
     },
     "execution_count": 13,
     "metadata": {},
     "output_type": "execute_result"
    }
   ],
   "source": [
    "#read animal info (lever assignment, group etc) into df\n",
    "\n",
    "path_animal_info = 'C:/Users/Schindler/Documents/Schindler_Lab/Data/Behavior/med_boxes/assignments/PR_r2_2020Feb.xlsx'\n",
    "    \n",
    "animal_info = pd.read_excel(path_animal_info)\n",
    "animal_info = pd.DataFrame(data = animal_info)\n",
    "\n",
    "animal_info.head()"
   ]
  },
  {
   "cell_type": "markdown",
   "metadata": {},
   "source": [
    "### Process data"
   ]
  },
  {
   "cell_type": "code",
   "execution_count": 14,
   "metadata": {
    "scrolled": true
   },
   "outputs": [
    {
     "name": "stdout",
     "output_type": "stream",
     "text": [
      "C:/Users/Schindler/Documents/Schindler_Lab/Data/Behavior/med_boxes/reward_learning_tc/round1/switch_lever/reinst_drug/mag/RDPMT_1_825_200323\n",
      "C:/Users/Schindler/Documents/Schindler_Lab/Data/Behavior/med_boxes/reward_learning_tc/round1/switch_lever/reinst_drug/mag/RDPMT_1_826_200323\n",
      "C:/Users/Schindler/Documents/Schindler_Lab/Data/Behavior/med_boxes/reward_learning_tc/round1/switch_lever/reinst_drug/mag/RDPMT_1_827_200323\n",
      "C:/Users/Schindler/Documents/Schindler_Lab/Data/Behavior/med_boxes/reward_learning_tc/round1/switch_lever/reinst_drug/mag/RDPMT_1_828_200323\n",
      "C:/Users/Schindler/Documents/Schindler_Lab/Data/Behavior/med_boxes/reward_learning_tc/round1/switch_lever/reinst_drug/mag/RDPMT_1_829_200323\n",
      "C:/Users/Schindler/Documents/Schindler_Lab/Data/Behavior/med_boxes/reward_learning_tc/round1/switch_lever/reinst_drug/mag/RDPMT_1_830_200323\n",
      "C:/Users/Schindler/Documents/Schindler_Lab/Data/Behavior/med_boxes/reward_learning_tc/round1/switch_lever/reinst_drug/mag/RDPMT_1_831_200323\n",
      "C:/Users/Schindler/Documents/Schindler_Lab/Data/Behavior/med_boxes/reward_learning_tc/round1/switch_lever/reinst_drug/mag/RDPMT_1_832_200323\n",
      "C:/Users/Schindler/Documents/Schindler_Lab/Data/Behavior/med_boxes/reward_learning_tc/round1/switch_lever/reinst_drug/mag/RDPMT_1_833_200323\n",
      "C:/Users/Schindler/Documents/Schindler_Lab/Data/Behavior/med_boxes/reward_learning_tc/round1/switch_lever/reinst_drug/mag/RDPMT_1_834_200323\n",
      "C:/Users/Schindler/Documents/Schindler_Lab/Data/Behavior/med_boxes/reward_learning_tc/round1/switch_lever/reinst_drug/mag/RDPMT_1_835_200323\n",
      "C:/Users/Schindler/Documents/Schindler_Lab/Data/Behavior/med_boxes/reward_learning_tc/round1/switch_lever/reinst_drug/mag/RDPMT_1_836_200323\n",
      "C:/Users/Schindler/Documents/Schindler_Lab/Data/Behavior/med_boxes/reward_learning_tc/round1/switch_lever/reinst_drug/mag/RDPMT_1_837_200323\n",
      "C:/Users/Schindler/Documents/Schindler_Lab/Data/Behavior/med_boxes/reward_learning_tc/round1/switch_lever/reinst_drug/mag/RDPMT_1_839_200323\n",
      "C:/Users/Schindler/Documents/Schindler_Lab/Data/Behavior/med_boxes/reward_learning_tc/round1/switch_lever/reinst_drug/mag/RDPMT_1_840_200323\n",
      "C:/Users/Schindler/Documents/Schindler_Lab/Data/Behavior/med_boxes/reward_learning_tc/round1/switch_lever/reinst_drug/mag/RDPMT_1_841_200323\n",
      "C:/Users/Schindler/Documents/Schindler_Lab/Data/Behavior/med_boxes/reward_learning_tc/round1/switch_lever/reinst_drug/mag/RDPMT_1_842_200323\n",
      "Wall time: 1.25 s\n"
     ]
    },
    {
     "data": {
      "text/html": [
       "<div>\n",
       "<style scoped>\n",
       "    .dataframe tbody tr th:only-of-type {\n",
       "        vertical-align: middle;\n",
       "    }\n",
       "\n",
       "    .dataframe tbody tr th {\n",
       "        vertical-align: top;\n",
       "    }\n",
       "\n",
       "    .dataframe thead th {\n",
       "        text-align: right;\n",
       "    }\n",
       "</style>\n",
       "<table border=\"1\" class=\"dataframe\">\n",
       "  <thead>\n",
       "    <tr style=\"text-align: right;\">\n",
       "      <th></th>\n",
       "      <th>type</th>\n",
       "      <th>date</th>\n",
       "      <th>session</th>\n",
       "      <th>session_num</th>\n",
       "      <th>cage</th>\n",
       "      <th>animal_number</th>\n",
       "      <th>group</th>\n",
       "      <th>active_lever</th>\n",
       "      <th>trial_num</th>\n",
       "      <th>HE_count</th>\n",
       "      <th>HE_latency_1st</th>\n",
       "      <th>HE_latency_ave</th>\n",
       "    </tr>\n",
       "  </thead>\n",
       "  <tbody>\n",
       "    <tr>\n",
       "      <th>0</th>\n",
       "      <td>session</td>\n",
       "      <td>200323</td>\n",
       "      <td>RDPMT</td>\n",
       "      <td>1</td>\n",
       "      <td>158</td>\n",
       "      <td>825</td>\n",
       "      <td>1</td>\n",
       "      <td>0</td>\n",
       "      <td>0</td>\n",
       "      <td>3</td>\n",
       "      <td>0.3595</td>\n",
       "      <td>0.428500</td>\n",
       "    </tr>\n",
       "    <tr>\n",
       "      <th>1</th>\n",
       "      <td>session</td>\n",
       "      <td>200323</td>\n",
       "      <td>RDPMT</td>\n",
       "      <td>1</td>\n",
       "      <td>158</td>\n",
       "      <td>825</td>\n",
       "      <td>1</td>\n",
       "      <td>0</td>\n",
       "      <td>1</td>\n",
       "      <td>3</td>\n",
       "      <td>0.1508</td>\n",
       "      <td>0.233300</td>\n",
       "    </tr>\n",
       "    <tr>\n",
       "      <th>2</th>\n",
       "      <td>session</td>\n",
       "      <td>200323</td>\n",
       "      <td>RDPMT</td>\n",
       "      <td>1</td>\n",
       "      <td>158</td>\n",
       "      <td>825</td>\n",
       "      <td>1</td>\n",
       "      <td>0</td>\n",
       "      <td>2</td>\n",
       "      <td>1</td>\n",
       "      <td>0.0523</td>\n",
       "      <td>0.052300</td>\n",
       "    </tr>\n",
       "    <tr>\n",
       "      <th>3</th>\n",
       "      <td>session</td>\n",
       "      <td>200323</td>\n",
       "      <td>RDPMT</td>\n",
       "      <td>1</td>\n",
       "      <td>158</td>\n",
       "      <td>826</td>\n",
       "      <td>1</td>\n",
       "      <td>0</td>\n",
       "      <td>0</td>\n",
       "      <td>13</td>\n",
       "      <td>0.0362</td>\n",
       "      <td>0.266892</td>\n",
       "    </tr>\n",
       "    <tr>\n",
       "      <th>4</th>\n",
       "      <td>session</td>\n",
       "      <td>200323</td>\n",
       "      <td>RDPMT</td>\n",
       "      <td>1</td>\n",
       "      <td>158</td>\n",
       "      <td>826</td>\n",
       "      <td>1</td>\n",
       "      <td>0</td>\n",
       "      <td>1</td>\n",
       "      <td>5</td>\n",
       "      <td>0.0890</td>\n",
       "      <td>0.186940</td>\n",
       "    </tr>\n",
       "  </tbody>\n",
       "</table>\n",
       "</div>"
      ],
      "text/plain": [
       "      type    date session session_num  cage animal_number  group  active_lever  trial_num  HE_count  HE_latency_1st  HE_latency_ave\n",
       "0  session  200323   RDPMT           1   158           825      1             0          0         3          0.3595        0.428500\n",
       "1  session  200323   RDPMT           1   158           825      1             0          1         3          0.1508        0.233300\n",
       "2  session  200323   RDPMT           1   158           825      1             0          2         1          0.0523        0.052300\n",
       "3  session  200323   RDPMT           1   158           826      1             0          0        13          0.0362        0.266892\n",
       "4  session  200323   RDPMT           1   158           826      1             0          1         5          0.0890        0.186940"
      ]
     },
     "execution_count": 14,
     "metadata": {},
     "output_type": "execute_result"
    }
   ],
   "source": [
    "%%time\n",
    "final_data = pd.DataFrame()\n",
    "\n",
    "bit_dic = {'reinforcement': 5, 'HE': 6}\n",
    "\n",
    "for file in file_paths:\n",
    "\n",
    "    print(file) \n",
    "    \n",
    "    #proccess file\n",
    "    date, animal_number, session, session_num = get_file_info(file)\n",
    "    array = make_array_from_path(file)\n",
    "    events_and_times = get_events_and_times(array, \"E\", \"T\", 'event')\n",
    "    trial_times = get_trial_times_MT(events_and_times, 5, 100)\n",
    "    trial_data = create_trial_df(events_and_times, trial_times)\n",
    "    session_data = create_session_df(trial_data, bit_dic)\n",
    "   \n",
    "    #create pandas tidy df for within session\n",
    "    session_data['type'] = ['session']*(session_data.shape[0])    \n",
    "    session_data['date'] = [date]*(session_data.shape[0])\n",
    "    session_data['animal_number'] = [animal_number]*(session_data.shape[0])\n",
    "    session_data['session'] = [session]*(session_data.shape[0])\n",
    "    session_data['session_num'] = [session_num]*(session_data.shape[0])\n",
    "    session_data['active_lever'] = int(animal_info[animal_info['animal'] == int(animal_number)]['lever'])\n",
    "    session_data['group'] = int(animal_info[animal_info['animal'] == int(animal_number)]['group'])\n",
    "    session_data['cage'] = int(animal_info[animal_info['animal'] == int(animal_number)]['cage'])\n",
    "   \n",
    "    session_data = session_data[['type', 'date', 'session', 'session_num', 'cage', 'animal_number', 'group', 'active_lever', \n",
    "                                 'trial_num', 'HE_count', 'HE_latency_1st', 'HE_latency_ave']]\n",
    "    \n",
    "    #add to final data frame\n",
    "    final_data = pd.concat([final_data, session_data], axis = 0, ignore_index=True)\n",
    "\n",
    "final_data.head()"
   ]
  },
  {
   "cell_type": "code",
   "execution_count": 16,
   "metadata": {},
   "outputs": [],
   "source": [
    "final_data.to_csv('reinst_MT.csv', index=False)"
   ]
  },
  {
   "cell_type": "code",
   "execution_count": 17,
   "metadata": {},
   "outputs": [
    {
     "data": {
      "text/html": [
       "<div>\n",
       "<style scoped>\n",
       "    .dataframe tbody tr th:only-of-type {\n",
       "        vertical-align: middle;\n",
       "    }\n",
       "\n",
       "    .dataframe tbody tr th {\n",
       "        vertical-align: top;\n",
       "    }\n",
       "\n",
       "    .dataframe thead th {\n",
       "        text-align: right;\n",
       "    }\n",
       "</style>\n",
       "<table border=\"1\" class=\"dataframe\">\n",
       "  <thead>\n",
       "    <tr style=\"text-align: right;\">\n",
       "      <th></th>\n",
       "      <th>type</th>\n",
       "      <th>date</th>\n",
       "      <th>session</th>\n",
       "      <th>session_num</th>\n",
       "      <th>cage</th>\n",
       "      <th>animal_number</th>\n",
       "      <th>group</th>\n",
       "      <th>active_lever</th>\n",
       "      <th>trial_num</th>\n",
       "      <th>HE_count</th>\n",
       "      <th>HE_latency_1st</th>\n",
       "      <th>HE_latency_ave</th>\n",
       "    </tr>\n",
       "  </thead>\n",
       "  <tbody>\n",
       "    <tr>\n",
       "      <th>0</th>\n",
       "      <td>session</td>\n",
       "      <td>200323</td>\n",
       "      <td>RDPMT</td>\n",
       "      <td>1</td>\n",
       "      <td>158</td>\n",
       "      <td>825</td>\n",
       "      <td>1</td>\n",
       "      <td>0</td>\n",
       "      <td>0</td>\n",
       "      <td>3</td>\n",
       "      <td>0.3595</td>\n",
       "      <td>0.4285</td>\n",
       "    </tr>\n",
       "  </tbody>\n",
       "</table>\n",
       "</div>"
      ],
      "text/plain": [
       "      type    date session session_num  cage animal_number  group  active_lever  trial_num  HE_count  HE_latency_1st  HE_latency_ave\n",
       "0  session  200323   RDPMT           1   158           825      1             0          0         3          0.3595          0.4285"
      ]
     },
     "execution_count": 17,
     "metadata": {},
     "output_type": "execute_result"
    }
   ],
   "source": [
    "final_data.head(1)"
   ]
  },
  {
   "cell_type": "code",
   "execution_count": 20,
   "metadata": {},
   "outputs": [
    {
     "data": {
      "text/plain": [
       "<Figure size 2160x720 with 0 Axes>"
      ]
     },
     "metadata": {},
     "output_type": "display_data"
    },
    {
     "data": {
      "image/png": "[encoded data removed]",
      "text/plain": [
       "<Figure size 464.975x360 with 1 Axes>"
      ]
     },
     "metadata": {
      "needs_background": "light"
     },
     "output_type": "display_data"
    }
   ],
   "source": [
    "plt.figure(figsize=(30,10))\n",
    "sns.catplot(x='trial_num', y='HE_count', data=final_data.groupby(['trial_num', 'animal_number', 'group'])['HE_count'].sum().reset_index(), hue='group', kind='bar', ci=68)\n",
    "\n",
    "plt.show()"
   ]
  },
  {
   "cell_type": "code",
   "execution_count": null,
   "metadata": {},
   "outputs": [],
   "source": []
  },
  {
   "cell_type": "code",
   "execution_count": null,
   "metadata": {},
   "outputs": [],
   "source": []
  },
  {
   "cell_type": "code",
   "execution_count": null,
   "metadata": {},
   "outputs": [],
   "source": []
  },
  {
   "cell_type": "code",
   "execution_count": null,
   "metadata": {},
   "outputs": [],
   "source": []
  },
  {
   "cell_type": "code",
   "execution_count": null,
   "metadata": {},
   "outputs": [],
   "source": []
  },
  {
   "cell_type": "code",
   "execution_count": null,
   "metadata": {},
   "outputs": [],
   "source": []
  },
  {
   "cell_type": "code",
   "execution_count": null,
   "metadata": {},
   "outputs": [],
   "source": []
  },
  {
   "cell_type": "code",
   "execution_count": null,
   "metadata": {},
   "outputs": [],
   "source": [
    "file_path = file_paths[1]\n",
    "print('file_path:', '\\n', file_path, '\\n')\n",
    "\n",
    "date, animal_number, session, session_num = get_file_info(file_path)\n",
    "print('date:', date, 'animal_number:', animal_number, 'session:', session, 'session_num:', session_num, '\\n')\n",
    "\n",
    "array = make_array_from_path(file_path)\n",
    "print(array[0:5], '\\n')\n",
    "\n",
    "events_and_times = get_events_and_times(array, \"E\", \"T\", 'event')\n",
    "print(events_and_times, '\\n')\n",
    "\n",
    "trial_times = get_trial_times_MT(events_and_times, 5,100)\n",
    "print(trial_times, '\\n')\n",
    "\n",
    "trial_data = create_trial_df(events_and_times, trial_times)\n",
    "print(trial_data, '\\n')\n",
    "\n",
    "bit_dic = {'reinforcement': 5, 'HE_trial': 6}\n",
    "session_data = create_session_df(trial_data, bit_dic)\n",
    "session_data"
   ]
  },
  {
   "cell_type": "code",
   "execution_count": null,
   "metadata": {},
   "outputs": [],
   "source": []
  }
 ],
 "metadata": {
  "kernelspec": {
   "display_name": "Python 3",
   "language": "python",
   "name": "python3"
  },
  "language_info": {
   "codemirror_mode": {
    "name": "ipython",
    "version": 3
   },
   "file_extension": ".py",
   "mimetype": "text/x-python",
   "name": "python",
   "nbconvert_exporter": "python",
   "pygments_lexer": "ipython3",
   "version": "3.6.12"
  },
  "toc": {
   "base_numbering": 1,
   "nav_menu": {},
   "number_sections": true,
   "sideBar": true,
   "skip_h1_title": true,
   "title_cell": "Table of Contents",
   "title_sidebar": "Contents",
   "toc_cell": false,
   "toc_position": {},
   "toc_section_display": true,
   "toc_window_display": false
  }
 },
 "nbformat": 4,
 "nbformat_minor": 2
}
